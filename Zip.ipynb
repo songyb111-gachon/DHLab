{
 "cells": [
  {
   "cell_type": "code",
   "id": "619ad678-16dd-4fb4-b3ef-03f429f6bea0",
   "metadata": {
    "jupyter": {
     "is_executing": true
    }
   },
   "source": [
    "import os\n",
    "import zipfile\n",
    "\n",
    "def compress_folder(folder_name, output_name):\n",
    "    \"\"\"\n",
    "    특정 폴더를 ZIP 파일로 압축합니다.\n",
    "\n",
    "    Args:\n",
    "        folder_name (str): 압축할 폴더 이름\n",
    "        output_name (str): 생성될 ZIP 파일 이름\n",
    "    \"\"\"\n",
    "    # ZIP 파일 생성\n",
    "    with zipfile.ZipFile(output_name, 'w', zipfile.ZIP_DEFLATED) as zipf:\n",
    "        for root, dirs, files in os.walk(folder_name):\n",
    "            for file in files:\n",
    "                file_path = os.path.join(root, file)\n",
    "                # ZIP 파일에 파일 추가\n",
    "                arcname = os.path.relpath(file_path, folder_name)  # 폴더 구조 보존\n",
    "                zipf.write(file_path, arcname)\n",
    "    print(f\"{folder_name} 폴더가 {output_name}로 압축되었습니다.\")\n",
    "\n",
    "# 압축 실행\n",
    "folder_to_compress = \"videos \"  # 압축할 폴더 이름\n",
    "output_zip_name = \"videos.zip\"  # 생성될 ZIP 파일 이름\n",
    "\n",
    "compress_folder(folder_to_compress, output_zip_name)\n"
   ],
   "outputs": [],
   "execution_count": null
  },
  {
   "cell_type": "code",
   "id": "2df6b2b5-7c17-46a4-9542-21628fa1f154",
   "metadata": {
    "jupyter": {
     "is_executing": true
    }
   },
   "source": [],
   "outputs": [],
   "execution_count": null
  }
 ],
 "metadata": {
  "kernelspec": {
   "display_name": "Python 3 (ipykernel)",
   "language": "python",
   "name": "python3"
  },
  "language_info": {
   "codemirror_mode": {
    "name": "ipython",
    "version": 3
   },
   "file_extension": ".py",
   "mimetype": "text/x-python",
   "name": "python",
   "nbconvert_exporter": "python",
   "pygments_lexer": "ipython3",
   "version": "3.8.10"
  }
 },
 "nbformat": 4,
 "nbformat_minor": 5
}
