{
 "cells": [
  {
   "cell_type": "code",
   "execution_count": 1,
   "id": "1d7d6156-1a3c-4d16-8a80-26491908ed6e",
   "metadata": {},
   "outputs": [],
   "source": [
    "import torchOptics.optics as tt\n",
    "import warnings\n",
    "import torch.nn as nn\n",
    "import torchOptics.metrics as tm\n",
    "import torch.nn.functional as F\n",
    "import torch.optim\n",
    "import torch\n",
    "from torch.utils.data import Dataset, DataLoader\n",
    "import os\n",
    "import glob\n",
    "import numpy as np\n",
    "import matplotlib.pyplot as plt\n",
    "import pickle\n",
    "import torchvision\n",
    "import datetime\n",
    "import tqdm\n",
    "import time\n",
    "import pandas as pd\n",
    "\n",
    "\n",
    "warnings.filterwarnings('ignore')\n",
    "\n",
    "\n",
    "class SignFunction(torch.autograd.Function):\n",
    "    @staticmethod\n",
    "    def forward(ctx, input):\n",
    "        ctx.save_for_backward(input)\n",
    "        t = torch.Tensor([0.5]).to(input.device)  # threshold\n",
    "        output = (input > t).float() * 1\n",
    "        return output\n",
    "\n",
    "    @staticmethod\n",
    "    def backward(ctx, grad_output):\n",
    "        input, = ctx.saved_tensors\n",
    "        grad_input = grad_output * torch.ones_like(input)  # Replace with your custom gradient computation\n",
    "        return grad_input\n",
    "\n",
    "class RealSign(torch.autograd.Function):\n",
    "    @staticmethod\n",
    "    def forward(ctx, input):\n",
    "        output = torch.sign(input)\n",
    "        return output\n",
    "\n",
    "    @staticmethod\n",
    "    def backward(ctx, grad_output):\n",
    "        input, = ctx.saved_tensors\n",
    "        grad_input = grad_output * torch.ones_like(input)  # Replace with your custom gradient computation\n",
    "        return grad_input\n",
    "\n",
    "\n",
    "class Dataset512(Dataset):\n",
    "    def __init__(self, target_dir, meta, transform=None, isTrain=True, padding=0):\n",
    "        self.target_dir = target_dir\n",
    "        self.transform = transform\n",
    "        self.meta = meta\n",
    "        self.isTrain = isTrain\n",
    "        self.target_list = sorted(glob.glob(target_dir+'*.png'))\n",
    "        self.center_crop = torchvision.transforms.CenterCrop(1024)\n",
    "        self.random_crop = torchvision.transforms.RandomCrop((1024, 1024))\n",
    "        self.padding = padding\n",
    "\n",
    "    def __len__(self):\n",
    "        return len(self.target_list)\n",
    "\n",
    "    def __getitem__(self, idx):\n",
    "        if torch.is_tensor(idx):\n",
    "            idx = idx.tolist()\n",
    "        target = tt.imread(self.target_list[idx], meta=meta, gray=True).unsqueeze(0)\n",
    "        if target.shape[-1] < 1024 or target.shape[-2] < 1024:\n",
    "            target = torchvision.transforms.Resize(1024)(target)\n",
    "        if self.isTrain:\n",
    "            target = self.random_crop(target)\n",
    "            target = torchvision.transforms.functional.pad(target, (self.padding, self.padding, self.padding, self.padding))\n",
    "        else:\n",
    "            target = self.center_crop(target)\n",
    "            target = torchvision.transforms.functional.pad(target, (self.padding, self.padding, self.padding, self.padding))\n",
    "        return target\n",
    "\n",
    "\n",
    "def initialize_weights(m):\n",
    "    if isinstance(m, nn.Conv2d):\n",
    "        nn.init.kaiming_uniform_(m.weight.data, nonlinearity='relu')\n",
    "        if m.bias is not None:\n",
    "            nn.init.constant_(m.bias.data, 0)\n",
    "    elif isinstance(m, nn.BatchNorm2d):\n",
    "        nn.init.constant_(m.weight.data, 1)\n",
    "        nn.init.constant_(m.bias.data, 0)\n",
    "    elif isinstance(m, nn.Linear):\n",
    "        nn.init.kaiming_uniform_(m.weight.data)\n",
    "        nn.init.constant_(m.bias.data, 0)\n",
    "\n",
    "# load data\n",
    "batch_size = 1\n",
    "# target_dir = 'dataset/DIV2K/DIV2K_train_HR/'\n",
    "# valid_dir = 'dataset/DIV2K/DIV2K_valid_HR/'\n",
    "target_dir = '/nfs/dataset/DIV2K/DIV2K_train_HR/DIV2K_train_HR/'\n",
    "valid_dir = '/nfs/dataset/DIV2K/DIV2K_valid_HR/DIV2K_valid_HR/'\n",
    "# sim_dir = 'binary_dataset/simulated/'\n",
    "meta = {'wl' : (515e-9), 'dx':(7.56e-6, 7.56e-6)}\n",
    "padding = 0\n",
    "train_dataset = Dataset512(target_dir=target_dir, meta=meta, isTrain=True, padding=padding)\n",
    "valid_dataset = Dataset512(target_dir=valid_dir, meta=meta, isTrain=False, padding=padding)\n",
    "\n",
    "trainloader = DataLoader(train_dataset, batch_size=batch_size, shuffle=False)\n",
    "validloader = DataLoader(valid_dataset, batch_size=batch_size, shuffle=False)\n",
    "\n",
    "\n",
    "def initialize_weights(m):\n",
    "    if isinstance(m, nn.Conv2d):\n",
    "        nn.init.kaiming_uniform_(m.weight.data, nonlinearity='relu')\n",
    "        if m.bias is not None:\n",
    "            nn.init.constant_(m.bias.data, 0)\n",
    "    elif isinstance(m, nn.BatchNorm2d):\n",
    "        nn.init.constant_(m.weight.data, 1)\n",
    "        nn.init.constant_(m.bias.data, 0)\n",
    "    elif isinstance(m, nn.Linear):\n",
    "        nn.init.kaiming_uniform_(m.weight.data)\n",
    "        nn.init.constant_(m.bias.data, 0)\n",
    "\n",
    "\n",
    "def train(model, num_hologram=10, custom_name='fcn', epochs=100, lr=1e-4, z=2e-3):\n",
    "    date = datetime.datetime.now() - datetime.timedelta(hours=15)\n",
    "    mean_psnr_list = []\n",
    "    mean_mse_list = []\n",
    "    max_epoch = 0\n",
    "    max_psnr = 0\n",
    "    optimizer = torch.optim.Adam(model.parameters(), lr=lr)\n",
    "    sign_function = SignFunction.apply\n",
    "    # path = 'models/'\n",
    "    model_name = f'{date}_{custom_name}_{num_hologram}_{z}'\n",
    "    # make result folder\n",
    "    result_folder = 'result/'+model_name\n",
    "    os.mkdir(result_folder)\n",
    "    model_path = os.path.join(result_folder, model_name)\n",
    "    psnr_result_path = os.path.join(result_folder, 'meanPSNR.npy')\n",
    "    mse_result_path = os.path.join(result_folder, 'meanMSE.npy')\n",
    "    result = {'model_path': model_path, 'psnr_result_path': psnr_result_path,\n",
    "          'mse_result_path': mse_result_path, 'z': z,\n",
    "          'num_hologram': num_hologram, 'lr': lr, 'epochs': epochs}\n",
    "    # save result dict\n",
    "    with open(os.path.join(result_folder, 'result_dict.pickle'), 'wb') as fw:\n",
    "        pickle.dump(result, fw)\n",
    "    for epoch in range(epochs):\n",
    "        pbar = tqdm.tqdm(trainloader)\n",
    "        model.train()\n",
    "        for target in pbar:\n",
    "            out = model(target)\n",
    "            binary = sign_function(out)\n",
    "            sim = tt.simulate(binary, z).abs()**2\n",
    "            result = torch.mean(sim, dim=1, keepdim=True)\n",
    "            loss = tt.relativeLoss(result, target, F.mse_loss)\n",
    "            optimizer.zero_grad()\n",
    "            loss.backward()\n",
    "            optimizer.step()\n",
    "        model.eval()\n",
    "        with torch.no_grad():\n",
    "            psnrList = []\n",
    "            mseList = []\n",
    "            for valid in validloader:\n",
    "                out = model(valid)\n",
    "                binary = sign_function(out)\n",
    "                sim = tt.simulate(binary, z).abs()**2\n",
    "                result = torch.mean(sim, dim=1, keepdim=True)\n",
    "                psnr = tt.relativeLoss(result, valid, tm.get_PSNR)\n",
    "                psnrList.append(psnr)\n",
    "                mse = tt.relativeLoss(result, valid, F.mse_loss).detach().cpu().numpy()\n",
    "                mseList.append(mse)\n",
    "            mean_psnr = sum(psnrList)/len(psnrList)\n",
    "            mean_mse = sum(mseList)/len(mseList)\n",
    "            mean_psnr_list.append(mean_psnr)\n",
    "            mean_mse_list.append(mean_mse)\n",
    "            # save psnr and mse\n",
    "            np.save(psnr_result_path, mean_psnr_list)\n",
    "            np.save(mse_result_path, mean_mse_list)\n",
    "            plt.plot(np.arange(len(mean_psnr_list)), mean_psnr_list,\n",
    "                     label=f'max psnr: {max(mean_psnr_list)}')\n",
    "            plt.title(model_name+'_psnr')\n",
    "            plt.legend()\n",
    "            plt.savefig(os.path.join(result_folder, 'meanPSNR.png'))\n",
    "            plt.clf()\n",
    "            plt.plot(np.arange(len(mean_mse_list)), mean_mse_list,\n",
    "                     label=f'max psnr: {min(mean_mse_list)}')\n",
    "            plt.title(model_name+'_mse')\n",
    "            plt.legend()\n",
    "            plt.savefig(os.path.join(result_folder, 'meanMSE.png'))\n",
    "            plt.clf()\n",
    "            print(f'mean PSNR : {mean_psnr} {epoch}/{epochs}')\n",
    "            print(f'mean MSE : {mean_mse} {epoch}/{epochs}')\n",
    "\n",
    "        if mean_psnr > max_psnr:\n",
    "            max_psnr = mean_psnr\n",
    "            max_epoch = epoch\n",
    "            torch.save(model.state_dict(), model_path)\n",
    "        print(f'max_psnr: {max_psnr}, epoch: {max_epoch}')\n",
    "\n",
    "\n",
    "def binary_sim(out, z=2e-3):\n",
    "    binary = SignFunction.apply(out)\n",
    "    sim = tt.simulate(binary, z).abs()**2\n",
    "    res = torch.mean(sim, dim=1, keepdim=True)\n",
    "    return binary, res\n",
    "\n",
    "\n",
    "def valid(model):\n",
    "    with torch.no_grad():\n",
    "        psnr_list = []\n",
    "        for target in validloader:\n",
    "            out = model(target)\n",
    "            binary, res = binary_sim(out)\n",
    "            psnr = tt.relativeLoss(res, target, tm.get_PSNR)\n",
    "            psnr_list.append(psnr)\n",
    "    print(sum(psnr_list)/len(psnr_list))\n",
    "\n",
    "\n",
    "def check_order(bmodel, classifier, target):\n",
    "    if len(target.shape) == 3:\n",
    "        target = target.unsqueeze(0)\n",
    "    result = []\n",
    "    with torch.no_grad():\n",
    "        out = bmodel(target)\n",
    "        binary, res = binary_sim(out)\n",
    "        for i in range(10):\n",
    "            binary_input = binary[0][i].unsqueeze(0).unsqueeze(0)\n",
    "            prop_order = classifier(binary_input)\n",
    "            result.append(torch.argmax(prop_order))\n",
    "    print(result)\n",
    "\n",
    "\n",
    "def check_order_without_model(binary, classifier):\n",
    "    with torch.no_grad():\n",
    "        result = []\n",
    "        for i in range(10):\n",
    "            binary_input = binary[0][i].unsqueeze(0).unsqueeze(0)\n",
    "            prop_order = classifier(binary_input)\n",
    "            result.append(torch.argmax(prop_order))\n",
    "    print(result)\n",
    "\n",
    "\n",
    "class SimpleCNN(nn.Module):\n",
    "    def __init__(self):\n",
    "        super(SimpleCNN, self).__init__()\n",
    "        self.conv1 = nn.Conv2d(1, 16, kernel_size=3, stride=1, padding=1)\n",
    "        self.pool1 = nn.MaxPool2d(kernel_size=2, stride=2, padding=0)\n",
    "        self.conv2 = nn.Conv2d(16, 32, kernel_size=3, stride=1, padding=1)\n",
    "        self.pool2 = nn.MaxPool2d(kernel_size=2, stride=2, padding=0)\n",
    "        self.conv3 = nn.Conv2d(32, 64, kernel_size=3, stride=1, padding=1)\n",
    "        self.pool3 = nn.MaxPool2d(kernel_size=2, stride=2, padding=0)\n",
    "        self.fc = nn.Linear(64 * 64 * 64, 10)  # 최종 분류를 위한 FC 레이어\n",
    "\n",
    "    def forward(self, x):\n",
    "        x = self.pool1(torch.relu(self.conv1(x)))\n",
    "        x = self.pool2(torch.relu(self.conv2(x)))\n",
    "        x = self.pool3(torch.relu(self.conv3(x)))\n",
    "        x = x.view(-1, 64 * 64 * 64)  # flatten\n",
    "        x = self.fc(x)\n",
    "        return x\n",
    "\n",
    "\n",
    "def rgb_binary_sim(out, z, th):\n",
    "    pixel_pitch = 7.56e-6\n",
    "    meta = {'wl' : (638e-9, 515e-9, 450e-9), 'dx':(pixel_pitch, pixel_pitch)}\n",
    "    rmeta = {'wl': (638e-9), 'dx': (pixel_pitch, pixel_pitch)}\n",
    "    gmeta = {'wl': (515e-9), 'dx': (pixel_pitch, pixel_pitch)}\n",
    "    bmeta = {'wl': (450e-9), 'dx': (pixel_pitch, pixel_pitch)}\n",
    "    sign = SignFunction.apply\n",
    "    binary = sign(out, th)\n",
    "    channel = out.shape[1]\n",
    "    rchannel = int(channel/3)\n",
    "    gchannel = int(channel*2/3)\n",
    "    red = binary[:, :rchannel, :, :]\n",
    "    green = binary[:, rchannel:gchannel, :, :]\n",
    "    blue = binary[:, gchannel:, :, :]\n",
    "    red = tt.Tensor(red, meta=rmeta)\n",
    "    green = tt.Tensor(green, meta=gmeta)\n",
    "    blue = tt.Tensor(blue, meta=bmeta)\n",
    "    rsim = tt.simulate(red, z).abs()**2\n",
    "    gsim = tt.simulate(green, z).abs()**2\n",
    "    bsim = tt.simulate(blue, z).abs()**2\n",
    "    rmean = torch.mean(rsim, dim=1, keepdim=True)\n",
    "    gmean = torch.mean(gsim, dim=1, keepdim=True)\n",
    "    bmean = torch.mean(bsim, dim=1, keepdim=True)\n",
    "    rgb = torch.cat([rmean, gmean, bmean], dim=1)\n",
    "    rgb = tt.Tensor(rgb, meta=meta)\n",
    "    binary = tt.Tensor(binary, meta=meta)\n",
    "    return binary, rgb\n",
    "\n",
    "def count_parameters(model):\n",
    "    return sum(p.numel() for p in model.parameters() if p.requires_grad)"
   ]
  },
  {
   "cell_type": "code",
   "execution_count": 2,
   "id": "c1eeb963-4afb-4fa4-b6ed-d79b9f080c2a",
   "metadata": {},
   "outputs": [
    {
     "name": "stdout",
     "output_type": "stream",
     "text": [
      "torch.Size([1, 8, 1024, 1024])\n"
     ]
    }
   ],
   "source": [
    "class BinaryNet(nn.Module):\n",
    "    def __init__(self, num_hologram, final='Sigmoid', in_planes=3,\n",
    "                 channels=[32, 64, 128, 256, 512, 1024, 2048, 4096],\n",
    "                 convReLU=True, convBN=True, poolReLU=True, poolBN=True,\n",
    "                 deconvReLU=True, deconvBN=True):\n",
    "        super(BinaryNet, self).__init__()\n",
    "\n",
    "        def CRB2d(in_channels, out_channels, kernel_size=3, stride=1, padding=1, bias=True, relu=True, bn=True):\n",
    "            layers = []\n",
    "            layers += [nn.Conv2d(in_channels=in_channels, out_channels=out_channels,\n",
    "                                 kernel_size=kernel_size, stride=stride, padding=padding,\n",
    "                                 bias=bias)]\n",
    "            if relu:\n",
    "                layers += [nn.Tanh()]\n",
    "            if bn:\n",
    "                layers += [nn.BatchNorm2d(num_features=out_channels)]\n",
    "\n",
    "            cbr = nn.Sequential(*layers) # *으로 list unpacking \n",
    "\n",
    "            return cbr\n",
    "\n",
    "        def TRB2d(in_channels, out_channels, kernel_size=2, stride=2, bias=True, relu=True, bn=True):\n",
    "            layers = []\n",
    "            layers += [nn.ConvTranspose2d(in_channels=in_channels, out_channels=out_channels,\n",
    "                                          kernel_size=2, stride=2, padding=0,\n",
    "                                          bias=True)]\n",
    "            if bn:\n",
    "                layers += [nn.BatchNorm2d(num_features=out_channels)]\n",
    "            if relu:\n",
    "                layers += [nn.ReLU()]\n",
    "\n",
    "            cbr = nn.Sequential(*layers) # *으로 list unpacking \n",
    "\n",
    "            return cbr\n",
    "\n",
    "        self.enc1_1 = CRB2d(in_planes, channels[0], relu=convReLU, bn=convBN)\n",
    "        self.enc1_2 = CRB2d(channels[0], channels[0], relu=convReLU, bn=convBN)\n",
    "        self.pool1 = CRB2d(channels[0], channels[0], stride=2, relu=poolReLU, bn=poolBN)\n",
    "\n",
    "        self.enc2_1 = CRB2d(channels[0], channels[1], relu=convReLU, bn=convBN)\n",
    "        self.enc2_2 = CRB2d(channels[1], channels[1], relu=convReLU, bn=convBN)\n",
    "        self.pool2 = CRB2d(channels[1], channels[1], stride=2, relu=poolReLU, bn=poolBN)\n",
    "\n",
    "        self.enc3_1 = CRB2d(channels[1], channels[2], relu=convReLU, bn=convBN)\n",
    "        self.enc3_2 = CRB2d(channels[2], channels[2], relu=convReLU, bn=convBN)\n",
    "        self.pool3 = CRB2d(channels[2], channels[2], stride=2, relu=poolReLU, bn=poolBN)\n",
    "\n",
    "        self.enc4_1 = CRB2d(channels[2], channels[3], relu=convReLU, bn=convBN)\n",
    "        self.enc4_2 = CRB2d(channels[3], channels[3], relu=convReLU, bn=convBN)\n",
    "        self.pool4 = CRB2d(channels[3], channels[3], stride=2, relu=poolReLU, bn=poolBN)\n",
    "\n",
    "        self.enc5_1 = CRB2d(channels[3], channels[4], relu=convReLU, bn=convBN)\n",
    "        self.enc5_2 = CRB2d(channels[4], channels[4], relu=convReLU, bn=convBN)\n",
    "\n",
    "        self.deconv4 = TRB2d(channels[4], channels[3], relu=deconvReLU, bn=deconvBN, stride=2)\n",
    "        self.dec4_1 = CRB2d(channels[4], channels[3], relu=convReLU, bn=convBN)\n",
    "        self.dec4_2 = CRB2d(channels[3], channels[3], relu=convReLU, bn=convBN)\n",
    "\n",
    "        self.deconv3 = TRB2d(channels[3], channels[2], relu=deconvReLU, bn=deconvBN, stride=2)\n",
    "        self.dec3_1 = CRB2d(channels[3], channels[2], relu=convReLU, bn=convBN)\n",
    "        self.dec3_2 = CRB2d(channels[2], channels[2], relu=convReLU, bn=convBN)\n",
    "\n",
    "        self.deconv2 = TRB2d(channels[2], channels[1], relu=deconvReLU, bn=deconvBN, stride=2)\n",
    "        self.dec2_1 = CRB2d(channels[2], channels[1], relu=convReLU, bn=convBN)\n",
    "        self.dec2_2 = CRB2d(channels[1], channels[1], relu=convReLU, bn=convBN)\n",
    "\n",
    "        self.deconv1 = TRB2d(channels[1], channels[0], relu=deconvReLU, bn=deconvBN, stride=2)\n",
    "        self.dec1_1 = CRB2d(channels[1], channels[0], relu=convReLU, bn=convBN)\n",
    "        self.dec1_2 = CRB2d(channels[0], channels[0], relu=convReLU, bn=convBN)\n",
    "\n",
    "        self.classifier = CRB2d(channels[0], num_hologram, relu=False, bn=False)\n",
    "\n",
    "    def forward(self, x):\n",
    "        # Encoder\n",
    "        enc1_1 = self.enc1_1(x)\n",
    "        enc1_2 = self.enc1_2(enc1_1)\n",
    "        pool1 = self.pool1(enc1_2)\n",
    "\n",
    "        enc2_1 = self.enc2_1(pool1)\n",
    "        enc2_2 = self.enc2_2(enc2_1)\n",
    "        pool2 = self.pool2(enc2_2)\n",
    "\n",
    "        enc3_1 = self.enc3_1(pool2)\n",
    "        enc3_2 = self.enc3_2(enc3_1)\n",
    "        pool3 = self.pool3(enc3_2)\n",
    "\n",
    "        enc4_1 = self.enc4_1(pool3)\n",
    "        enc4_2 = self.enc4_2(enc4_1)\n",
    "        pool4 = self.pool4(enc4_2)\n",
    "\n",
    "        enc5_1 = self.enc5_1(pool4)\n",
    "        enc5_2 = self.enc5_2(enc5_1)\n",
    "\n",
    "        deconv4 = self.deconv4(enc5_2)\n",
    "        concat4 = torch.cat((deconv4, enc4_2), dim=1)\n",
    "        dec4_1 = self.dec4_1(concat4)\n",
    "        dec4_2 = self.dec4_2(dec4_1)\n",
    "\n",
    "        deconv3 = self.deconv3(dec4_2)\n",
    "        concat3 = torch.cat((deconv3, enc3_2), dim=1)\n",
    "        dec3_1 = self.dec3_1(concat3)\n",
    "        dec3_2 = self.dec3_2(dec3_1)\n",
    "\n",
    "        deconv2 = self.deconv2(dec3_2)\n",
    "        concat2 = torch.cat((deconv2, enc2_2), dim=1)\n",
    "        dec2_1 = self.dec2_1(concat2)\n",
    "        dec2_2 = self.dec2_2(dec2_1)\n",
    "\n",
    "        deconv1 = self.deconv1(dec2_2)\n",
    "        concat1 = torch.cat((deconv1, enc1_2), dim=1)\n",
    "        dec1_1 = self.dec1_1(concat1)\n",
    "        dec1_2 = self.dec1_2(dec1_1)\n",
    "\n",
    "        # Final classifier\n",
    "        out = self.classifier(dec1_2)\n",
    "        out = nn.Sigmoid()(out)\n",
    "        return out\n",
    "\n",
    "\n",
    "model = BinaryNet(num_hologram=8, in_planes=1, convReLU=False,\n",
    "                  convBN=False, poolReLU=False, poolBN=False,\n",
    "                  deconvReLU=False, deconvBN=False).cuda()\n",
    "test = torch.randn(1, 1, 1024, 1024).cuda()\n",
    "out = model(test)\n",
    "print(out.shape)"
   ]
  },
  {
   "cell_type": "code",
   "execution_count": 3,
   "id": "cce810b8-6c1f-4f2f-a856-6b77320f9de9",
   "metadata": {},
   "outputs": [],
   "source": [
    "def rgb_binary_train_padding(model, num_hologram=24, custom_name='0703Unet', epochs=500, lr=1e-4, z=2e-3):\n",
    "    date = datetime.datetime.now() - datetime.timedelta(hours=15)\n",
    "    model.apply(initialize_weights)\n",
    "    mean_psnr_list = []\n",
    "    mean_mse_list = []\n",
    "    max_epoch = 0\n",
    "    max_psnr = 0\n",
    "    crop = torchvision.transforms.CenterCrop(896)\n",
    "    optimizer = torch.optim.Adam(model.parameters(), lr=lr)\n",
    "    sign = SignFunction.apply\n",
    "    # path = 'models/'\n",
    "    model_name = f'{date}_{custom_name}_{num_hologram}_{z}'\n",
    "    # make result folder\n",
    "    result_folder = 'result/'+model_name\n",
    "    os.mkdir(result_folder)\n",
    "    num_parameters = count_parameters(model)\n",
    "    model_path = os.path.join(result_folder, model_name)\n",
    "    psnr_result_path = os.path.join(result_folder, 'meanPSNR.npy')\n",
    "    mse_result_path = os.path.join(result_folder, 'meanMSE.npy')\n",
    "    result = {'model_path': model_path, 'psnr_result_path': psnr_result_path,\n",
    "          'mse_result_path': mse_result_path, 'z': z,\n",
    "          'num_hologram': num_hologram, 'lr': lr, 'epochs': epochs,\n",
    "            'num_parameters': num_parameters}\n",
    "    # save result dict\n",
    "    with open(os.path.join(result_folder, 'result_dict.pickle'), 'wb') as fw:\n",
    "        pickle.dump(result, fw)\n",
    "    for epoch in range(epochs):\n",
    "        pbar = tqdm.tqdm(trainloader)\n",
    "        model.train()\n",
    "        for target in pbar:\n",
    "            target = target\n",
    "            out = model(target)\n",
    "            binary = sign(out)\n",
    "            sim = tt.simulate(binary, 2e-3).abs()**2\n",
    "            mean_sim = torch.mean(sim, dim=1, keepdim=True)\n",
    "            rgb = crop(mean_sim)\n",
    "            croped_target = crop(target)\n",
    "            loss = tt.relativeLoss(rgb, croped_target, F.mse_loss)\n",
    "            optimizer.zero_grad()\n",
    "            loss.backward()\n",
    "            optimizer.step()\n",
    "        model.eval()\n",
    "        with torch.no_grad():\n",
    "            psnrList = []\n",
    "            mseList = []\n",
    "            for idx, valid in enumerate(validloader):\n",
    "                valid = valid\n",
    "                out = model(valid)\n",
    "                binary = sign(out)\n",
    "                sim = tt.simulate(binary, 2e-3).abs()**2\n",
    "                mean_sim = torch.mean(sim, dim=1, keepdim=True)\n",
    "                rgb = crop(mean_sim)\n",
    "                croped_target = crop(valid)\n",
    "                psnr = tt.relativeLoss(rgb, croped_target, tm.get_PSNR)\n",
    "                psnrList.append(psnr)\n",
    "                mse = tt.relativeLoss(rgb, croped_target, F.mse_loss).detach().cpu().numpy()\n",
    "                mseList.append(mse)\n",
    "                if idx == 0:\n",
    "                    pl = tt.show_with_insets(rgb, croped_target, correct_colorwise=True)\n",
    "                    pl.save(os.path.join(result_folder, 'penguin.png'))\n",
    "            mean_psnr = sum(psnrList)/len(psnrList)\n",
    "            mean_mse = sum(mseList)/len(mseList)\n",
    "            mean_psnr_list.append(mean_psnr)\n",
    "            mean_mse_list.append(mean_mse)\n",
    "            # save psnr and mse\n",
    "            if epoch % 10 == 0:\n",
    "                np.save(psnr_result_path, mean_psnr_list)\n",
    "                np.save(mse_result_path, mean_mse_list)\n",
    "                plt.plot(np.arange(len(mean_psnr_list)), mean_psnr_list,\n",
    "                         label=f'max psnr: {max(mean_psnr_list)}')\n",
    "                plt.title(model_name+'_psnr')\n",
    "                plt.legend()\n",
    "                plt.savefig(os.path.join(result_folder, 'meanPSNR.png'))\n",
    "                plt.clf()\n",
    "                plt.plot(np.arange(len(mean_mse_list)), mean_mse_list,\n",
    "                         label=f'max psnr: {min(mean_mse_list)}')\n",
    "                plt.title(model_name+'_mse')\n",
    "                plt.legend()\n",
    "                plt.savefig(os.path.join(result_folder, 'meanMSE.png'))\n",
    "                plt.clf()\n",
    "            print(f'mean PSNR : {mean_psnr} {epoch}/{epochs}')\n",
    "            print(f'mean MSE : {mean_mse} {epoch}/{epochs}')\n",
    "\n",
    "        if mean_psnr > max_psnr:\n",
    "            max_psnr = mean_psnr\n",
    "            max_epoch = epoch\n",
    "            torch.save(model.state_dict(), model_path)\n",
    "        print(f'max_psnr: {max_psnr}, epoch: {max_epoch}')\n",
    "        print(f'Model saved at: {model_path}')"
   ]
  },
  {
   "cell_type": "code",
   "execution_count": 4,
   "id": "2b9cb06c-737b-463f-bdcf-33be55567292",
   "metadata": {},
   "outputs": [
    {
     "name": "stderr",
     "output_type": "stream",
     "text": [
      "100%|██████████| 800/800 [00:54<00:00, 14.78it/s]\n"
     ]
    },
    {
     "name": "stdout",
     "output_type": "stream",
     "text": [
      "mean PSNR : 22.13637659072876 0/500\n",
      "mean MSE : 0.0065378099004738035 0/500\n",
      "max_psnr: 22.13637659072876, epoch: 0\n",
      "Model saved at: result/2024-12-12 17:12:48.697095_pre_reinforce_8_0.002/2024-12-12 17:12:48.697095_pre_reinforce_8_0.002\n"
     ]
    },
    {
     "name": "stderr",
     "output_type": "stream",
     "text": [
      "100%|██████████| 800/800 [00:53<00:00, 14.96it/s]\n"
     ]
    },
    {
     "name": "stdout",
     "output_type": "stream",
     "text": [
      "mean PSNR : 20.78962423324585 1/500\n",
      "mean MSE : 0.008564953352324664 1/500\n",
      "max_psnr: 22.13637659072876, epoch: 0\n",
      "Model saved at: result/2024-12-12 17:12:48.697095_pre_reinforce_8_0.002/2024-12-12 17:12:48.697095_pre_reinforce_8_0.002\n"
     ]
    },
    {
     "name": "stderr",
     "output_type": "stream",
     "text": [
      "100%|██████████| 800/800 [00:53<00:00, 15.08it/s]\n"
     ]
    },
    {
     "name": "stdout",
     "output_type": "stream",
     "text": [
      "mean PSNR : 24.275135803222657 2/500\n",
      "mean MSE : 0.00416958402027376 2/500\n",
      "max_psnr: 24.275135803222657, epoch: 2\n",
      "Model saved at: result/2024-12-12 17:12:48.697095_pre_reinforce_8_0.002/2024-12-12 17:12:48.697095_pre_reinforce_8_0.002\n"
     ]
    },
    {
     "name": "stderr",
     "output_type": "stream",
     "text": [
      "100%|██████████| 800/800 [00:52<00:00, 15.14it/s]\n"
     ]
    },
    {
     "name": "stdout",
     "output_type": "stream",
     "text": [
      "mean PSNR : 23.931255645751953 3/500\n",
      "mean MSE : 0.0044228369696065785 3/500\n",
      "max_psnr: 24.275135803222657, epoch: 2\n",
      "Model saved at: result/2024-12-12 17:12:48.697095_pre_reinforce_8_0.002/2024-12-12 17:12:48.697095_pre_reinforce_8_0.002\n"
     ]
    },
    {
     "name": "stderr",
     "output_type": "stream",
     "text": [
      "100%|██████████| 800/800 [00:52<00:00, 15.17it/s]\n"
     ]
    },
    {
     "name": "stdout",
     "output_type": "stream",
     "text": [
      "mean PSNR : 16.167649354934692 4/500\n",
      "mean MSE : 0.025029034204781055 4/500\n",
      "max_psnr: 24.275135803222657, epoch: 2\n",
      "Model saved at: result/2024-12-12 17:12:48.697095_pre_reinforce_8_0.002/2024-12-12 17:12:48.697095_pre_reinforce_8_0.002\n"
     ]
    },
    {
     "name": "stderr",
     "output_type": "stream",
     "text": [
      "100%|██████████| 800/800 [00:52<00:00, 15.21it/s]\n"
     ]
    },
    {
     "name": "stdout",
     "output_type": "stream",
     "text": [
      "mean PSNR : 20.001152400970458 5/500\n",
      "mean MSE : 0.010204670946113764 5/500\n",
      "max_psnr: 24.275135803222657, epoch: 2\n",
      "Model saved at: result/2024-12-12 17:12:48.697095_pre_reinforce_8_0.002/2024-12-12 17:12:48.697095_pre_reinforce_8_0.002\n"
     ]
    },
    {
     "name": "stderr",
     "output_type": "stream",
     "text": [
      "100%|██████████| 800/800 [00:52<00:00, 15.22it/s]\n"
     ]
    },
    {
     "name": "stdout",
     "output_type": "stream",
     "text": [
      "mean PSNR : 23.999080142974854 6/500\n",
      "mean MSE : 0.004269842273788527 6/500\n",
      "max_psnr: 24.275135803222657, epoch: 2\n",
      "Model saved at: result/2024-12-12 17:12:48.697095_pre_reinforce_8_0.002/2024-12-12 17:12:48.697095_pre_reinforce_8_0.002\n"
     ]
    },
    {
     "name": "stderr",
     "output_type": "stream",
     "text": [
      "100%|██████████| 800/800 [00:52<00:00, 15.17it/s]\n"
     ]
    },
    {
     "name": "stdout",
     "output_type": "stream",
     "text": [
      "mean PSNR : 23.61373010635376 7/500\n",
      "mean MSE : 0.004658002919750288 7/500\n",
      "max_psnr: 24.275135803222657, epoch: 2\n",
      "Model saved at: result/2024-12-12 17:12:48.697095_pre_reinforce_8_0.002/2024-12-12 17:12:48.697095_pre_reinforce_8_0.002\n"
     ]
    },
    {
     "name": "stderr",
     "output_type": "stream",
     "text": [
      "100%|██████████| 800/800 [00:52<00:00, 15.22it/s]\n"
     ]
    },
    {
     "name": "stdout",
     "output_type": "stream",
     "text": [
      "mean PSNR : 21.71242723464966 8/500\n",
      "mean MSE : 0.006879117630887777 8/500\n",
      "max_psnr: 24.275135803222657, epoch: 2\n",
      "Model saved at: result/2024-12-12 17:12:48.697095_pre_reinforce_8_0.002/2024-12-12 17:12:48.697095_pre_reinforce_8_0.002\n"
     ]
    },
    {
     "name": "stderr",
     "output_type": "stream",
     "text": [
      "100%|██████████| 800/800 [00:52<00:00, 15.22it/s]\n"
     ]
    },
    {
     "name": "stdout",
     "output_type": "stream",
     "text": [
      "mean PSNR : 24.3826837348938 9/500\n",
      "mean MSE : 0.003953990472946316 9/500\n",
      "max_psnr: 24.3826837348938, epoch: 9\n",
      "Model saved at: result/2024-12-12 17:12:48.697095_pre_reinforce_8_0.002/2024-12-12 17:12:48.697095_pre_reinforce_8_0.002\n"
     ]
    },
    {
     "name": "stderr",
     "output_type": "stream",
     "text": [
      "100%|██████████| 800/800 [00:52<00:00, 15.24it/s]\n"
     ]
    },
    {
     "name": "stdout",
     "output_type": "stream",
     "text": [
      "mean PSNR : 19.094439811706543 10/500\n",
      "mean MSE : 0.012195304306223988 10/500\n",
      "max_psnr: 24.3826837348938, epoch: 9\n",
      "Model saved at: result/2024-12-12 17:12:48.697095_pre_reinforce_8_0.002/2024-12-12 17:12:48.697095_pre_reinforce_8_0.002\n"
     ]
    },
    {
     "name": "stderr",
     "output_type": "stream",
     "text": [
      "100%|██████████| 800/800 [00:52<00:00, 15.19it/s]\n"
     ]
    },
    {
     "name": "stdout",
     "output_type": "stream",
     "text": [
      "mean PSNR : 24.64353775024414 11/500\n",
      "mean MSE : 0.0037372187251457946 11/500\n",
      "max_psnr: 24.64353775024414, epoch: 11\n",
      "Model saved at: result/2024-12-12 17:12:48.697095_pre_reinforce_8_0.002/2024-12-12 17:12:48.697095_pre_reinforce_8_0.002\n"
     ]
    },
    {
     "name": "stderr",
     "output_type": "stream",
     "text": [
      "100%|██████████| 800/800 [00:52<00:00, 15.17it/s]\n"
     ]
    },
    {
     "name": "stdout",
     "output_type": "stream",
     "text": [
      "mean PSNR : 22.898166217803954 12/500\n",
      "mean MSE : 0.005481080097379163 12/500\n",
      "max_psnr: 24.64353775024414, epoch: 11\n",
      "Model saved at: result/2024-12-12 17:12:48.697095_pre_reinforce_8_0.002/2024-12-12 17:12:48.697095_pre_reinforce_8_0.002\n"
     ]
    },
    {
     "name": "stderr",
     "output_type": "stream",
     "text": [
      "100%|██████████| 800/800 [00:52<00:00, 15.14it/s]\n"
     ]
    },
    {
     "name": "stdout",
     "output_type": "stream",
     "text": [
      "mean PSNR : 23.728864345550537 13/500\n",
      "mean MSE : 0.004501070246333256 13/500\n",
      "max_psnr: 24.64353775024414, epoch: 11\n",
      "Model saved at: result/2024-12-12 17:12:48.697095_pre_reinforce_8_0.002/2024-12-12 17:12:48.697095_pre_reinforce_8_0.002\n"
     ]
    },
    {
     "name": "stderr",
     "output_type": "stream",
     "text": [
      "100%|██████████| 800/800 [00:52<00:00, 15.14it/s]\n"
     ]
    },
    {
     "name": "stdout",
     "output_type": "stream",
     "text": [
      "mean PSNR : 24.49860969543457 14/500\n",
      "mean MSE : 0.003817832192289643 14/500\n",
      "max_psnr: 24.64353775024414, epoch: 11\n",
      "Model saved at: result/2024-12-12 17:12:48.697095_pre_reinforce_8_0.002/2024-12-12 17:12:48.697095_pre_reinforce_8_0.002\n"
     ]
    },
    {
     "name": "stderr",
     "output_type": "stream",
     "text": [
      "100%|██████████| 800/800 [00:52<00:00, 15.21it/s]\n"
     ]
    },
    {
     "name": "stdout",
     "output_type": "stream",
     "text": [
      "mean PSNR : 24.685976161956788 15/500\n",
      "mean MSE : 0.0036924881592858582 15/500\n",
      "max_psnr: 24.685976161956788, epoch: 15\n",
      "Model saved at: result/2024-12-12 17:12:48.697095_pre_reinforce_8_0.002/2024-12-12 17:12:48.697095_pre_reinforce_8_0.002\n"
     ]
    },
    {
     "name": "stderr",
     "output_type": "stream",
     "text": [
      "100%|██████████| 800/800 [00:52<00:00, 15.23it/s]\n"
     ]
    },
    {
     "name": "stdout",
     "output_type": "stream",
     "text": [
      "mean PSNR : 24.763236312866212 16/500\n",
      "mean MSE : 0.003637375277467072 16/500\n",
      "max_psnr: 24.763236312866212, epoch: 16\n",
      "Model saved at: result/2024-12-12 17:12:48.697095_pre_reinforce_8_0.002/2024-12-12 17:12:48.697095_pre_reinforce_8_0.002\n"
     ]
    },
    {
     "name": "stderr",
     "output_type": "stream",
     "text": [
      "100%|██████████| 800/800 [00:52<00:00, 15.25it/s]\n"
     ]
    },
    {
     "name": "stdout",
     "output_type": "stream",
     "text": [
      "mean PSNR : 21.69372495651245 17/500\n",
      "mean MSE : 0.007154474869603291 17/500\n",
      "max_psnr: 24.763236312866212, epoch: 16\n",
      "Model saved at: result/2024-12-12 17:12:48.697095_pre_reinforce_8_0.002/2024-12-12 17:12:48.697095_pre_reinforce_8_0.002\n"
     ]
    },
    {
     "name": "stderr",
     "output_type": "stream",
     "text": [
      "100%|██████████| 800/800 [00:52<00:00, 15.18it/s]\n"
     ]
    },
    {
     "name": "stdout",
     "output_type": "stream",
     "text": [
      "mean PSNR : 22.51586519241333 18/500\n",
      "mean MSE : 0.0058001624699682 18/500\n",
      "max_psnr: 24.763236312866212, epoch: 16\n",
      "Model saved at: result/2024-12-12 17:12:48.697095_pre_reinforce_8_0.002/2024-12-12 17:12:48.697095_pre_reinforce_8_0.002\n"
     ]
    },
    {
     "name": "stderr",
     "output_type": "stream",
     "text": [
      "100%|██████████| 800/800 [00:52<00:00, 15.23it/s]\n"
     ]
    },
    {
     "name": "stdout",
     "output_type": "stream",
     "text": [
      "mean PSNR : 23.93928367614746 19/500\n",
      "mean MSE : 0.0043119530833791945 19/500\n",
      "max_psnr: 24.763236312866212, epoch: 16\n",
      "Model saved at: result/2024-12-12 17:12:48.697095_pre_reinforce_8_0.002/2024-12-12 17:12:48.697095_pre_reinforce_8_0.002\n"
     ]
    },
    {
     "name": "stderr",
     "output_type": "stream",
     "text": [
      "100%|██████████| 800/800 [00:52<00:00, 15.23it/s]\n"
     ]
    },
    {
     "name": "stdout",
     "output_type": "stream",
     "text": [
      "mean PSNR : 24.751645183563234 20/500\n",
      "mean MSE : 0.0036355965450638903 20/500\n",
      "max_psnr: 24.763236312866212, epoch: 16\n",
      "Model saved at: result/2024-12-12 17:12:48.697095_pre_reinforce_8_0.002/2024-12-12 17:12:48.697095_pre_reinforce_8_0.002\n"
     ]
    },
    {
     "name": "stderr",
     "output_type": "stream",
     "text": [
      "100%|██████████| 800/800 [00:52<00:00, 15.25it/s]\n"
     ]
    },
    {
     "name": "stdout",
     "output_type": "stream",
     "text": [
      "mean PSNR : 24.813671646118163 21/500\n",
      "mean MSE : 0.0036021030391566455 21/500\n",
      "max_psnr: 24.813671646118163, epoch: 21\n",
      "Model saved at: result/2024-12-12 17:12:48.697095_pre_reinforce_8_0.002/2024-12-12 17:12:48.697095_pre_reinforce_8_0.002\n"
     ]
    },
    {
     "name": "stderr",
     "output_type": "stream",
     "text": [
      "100%|██████████| 800/800 [00:52<00:00, 15.21it/s]\n"
     ]
    },
    {
     "name": "stdout",
     "output_type": "stream",
     "text": [
      "mean PSNR : 25.041873416900636 22/500\n",
      "mean MSE : 0.0034504395665135236 22/500\n",
      "max_psnr: 25.041873416900636, epoch: 22\n",
      "Model saved at: result/2024-12-12 17:12:48.697095_pre_reinforce_8_0.002/2024-12-12 17:12:48.697095_pre_reinforce_8_0.002\n"
     ]
    },
    {
     "name": "stderr",
     "output_type": "stream",
     "text": [
      "100%|██████████| 800/800 [00:52<00:00, 15.20it/s]\n"
     ]
    },
    {
     "name": "stdout",
     "output_type": "stream",
     "text": [
      "mean PSNR : 25.250986671447755 23/500\n",
      "mean MSE : 0.0033137684472603723 23/500\n",
      "max_psnr: 25.250986671447755, epoch: 23\n",
      "Model saved at: result/2024-12-12 17:12:48.697095_pre_reinforce_8_0.002/2024-12-12 17:12:48.697095_pre_reinforce_8_0.002\n"
     ]
    },
    {
     "name": "stderr",
     "output_type": "stream",
     "text": [
      "100%|██████████| 800/800 [00:52<00:00, 15.22it/s]\n"
     ]
    },
    {
     "name": "stdout",
     "output_type": "stream",
     "text": [
      "mean PSNR : 25.411866741180418 24/500\n",
      "mean MSE : 0.0032086913054808976 24/500\n",
      "max_psnr: 25.411866741180418, epoch: 24\n",
      "Model saved at: result/2024-12-12 17:12:48.697095_pre_reinforce_8_0.002/2024-12-12 17:12:48.697095_pre_reinforce_8_0.002\n"
     ]
    },
    {
     "name": "stderr",
     "output_type": "stream",
     "text": [
      "100%|██████████| 800/800 [00:52<00:00, 15.17it/s]\n"
     ]
    },
    {
     "name": "stdout",
     "output_type": "stream",
     "text": [
      "mean PSNR : 25.20108652114868 25/500\n",
      "mean MSE : 0.003302661555353552 25/500\n",
      "max_psnr: 25.411866741180418, epoch: 24\n",
      "Model saved at: result/2024-12-12 17:12:48.697095_pre_reinforce_8_0.002/2024-12-12 17:12:48.697095_pre_reinforce_8_0.002\n"
     ]
    },
    {
     "name": "stderr",
     "output_type": "stream",
     "text": [
      "100%|██████████| 800/800 [00:52<00:00, 15.16it/s]\n"
     ]
    },
    {
     "name": "stdout",
     "output_type": "stream",
     "text": [
      "mean PSNR : 24.99763990402222 26/500\n",
      "mean MSE : 0.003466446092352271 26/500\n",
      "max_psnr: 25.411866741180418, epoch: 24\n",
      "Model saved at: result/2024-12-12 17:12:48.697095_pre_reinforce_8_0.002/2024-12-12 17:12:48.697095_pre_reinforce_8_0.002\n"
     ]
    },
    {
     "name": "stderr",
     "output_type": "stream",
     "text": [
      "100%|██████████| 800/800 [00:52<00:00, 15.17it/s]\n"
     ]
    },
    {
     "name": "stdout",
     "output_type": "stream",
     "text": [
      "mean PSNR : 25.12537691116333 27/500\n",
      "mean MSE : 0.0033697804424446076 27/500\n",
      "max_psnr: 25.411866741180418, epoch: 24\n",
      "Model saved at: result/2024-12-12 17:12:48.697095_pre_reinforce_8_0.002/2024-12-12 17:12:48.697095_pre_reinforce_8_0.002\n"
     ]
    },
    {
     "name": "stderr",
     "output_type": "stream",
     "text": [
      "100%|██████████| 800/800 [00:52<00:00, 15.10it/s]\n"
     ]
    },
    {
     "name": "stdout",
     "output_type": "stream",
     "text": [
      "mean PSNR : 24.868938159942626 28/500\n",
      "mean MSE : 0.0035065648739691824 28/500\n",
      "max_psnr: 25.411866741180418, epoch: 24\n",
      "Model saved at: result/2024-12-12 17:12:48.697095_pre_reinforce_8_0.002/2024-12-12 17:12:48.697095_pre_reinforce_8_0.002\n"
     ]
    },
    {
     "name": "stderr",
     "output_type": "stream",
     "text": [
      "100%|██████████| 800/800 [00:53<00:00, 14.99it/s]\n"
     ]
    },
    {
     "name": "stdout",
     "output_type": "stream",
     "text": [
      "mean PSNR : 24.805587635040283 29/500\n",
      "mean MSE : 0.003513851275201887 29/500\n",
      "max_psnr: 25.411866741180418, epoch: 24\n",
      "Model saved at: result/2024-12-12 17:12:48.697095_pre_reinforce_8_0.002/2024-12-12 17:12:48.697095_pre_reinforce_8_0.002\n"
     ]
    },
    {
     "name": "stderr",
     "output_type": "stream",
     "text": [
      "100%|██████████| 800/800 [00:53<00:00, 14.99it/s]\n"
     ]
    },
    {
     "name": "stdout",
     "output_type": "stream",
     "text": [
      "mean PSNR : 24.70513889312744 30/500\n",
      "mean MSE : 0.0036301304621156306 30/500\n",
      "max_psnr: 25.411866741180418, epoch: 24\n",
      "Model saved at: result/2024-12-12 17:12:48.697095_pre_reinforce_8_0.002/2024-12-12 17:12:48.697095_pre_reinforce_8_0.002\n"
     ]
    },
    {
     "name": "stderr",
     "output_type": "stream",
     "text": [
      "100%|██████████| 800/800 [00:52<00:00, 15.10it/s]\n"
     ]
    },
    {
     "name": "stdout",
     "output_type": "stream",
     "text": [
      "mean PSNR : 25.352430248260497 31/500\n",
      "mean MSE : 0.003177870282670483 31/500\n",
      "max_psnr: 25.411866741180418, epoch: 24\n",
      "Model saved at: result/2024-12-12 17:12:48.697095_pre_reinforce_8_0.002/2024-12-12 17:12:48.697095_pre_reinforce_8_0.002\n"
     ]
    },
    {
     "name": "stderr",
     "output_type": "stream",
     "text": [
      "100%|██████████| 800/800 [00:52<00:00, 15.14it/s]\n"
     ]
    },
    {
     "name": "stdout",
     "output_type": "stream",
     "text": [
      "mean PSNR : 25.299350757598877 32/500\n",
      "mean MSE : 0.003224102850072086 32/500\n",
      "max_psnr: 25.411866741180418, epoch: 24\n",
      "Model saved at: result/2024-12-12 17:12:48.697095_pre_reinforce_8_0.002/2024-12-12 17:12:48.697095_pre_reinforce_8_0.002\n"
     ]
    },
    {
     "name": "stderr",
     "output_type": "stream",
     "text": [
      "100%|██████████| 800/800 [00:52<00:00, 15.16it/s]\n"
     ]
    },
    {
     "name": "stdout",
     "output_type": "stream",
     "text": [
      "mean PSNR : 25.529957962036132 33/500\n",
      "mean MSE : 0.0031006389483809473 33/500\n",
      "max_psnr: 25.529957962036132, epoch: 33\n",
      "Model saved at: result/2024-12-12 17:12:48.697095_pre_reinforce_8_0.002/2024-12-12 17:12:48.697095_pre_reinforce_8_0.002\n"
     ]
    },
    {
     "name": "stderr",
     "output_type": "stream",
     "text": [
      "100%|██████████| 800/800 [00:52<00:00, 15.18it/s]\n"
     ]
    },
    {
     "name": "stdout",
     "output_type": "stream",
     "text": [
      "mean PSNR : 25.7607328414917 34/500\n",
      "mean MSE : 0.0029809973074588925 34/500\n",
      "max_psnr: 25.7607328414917, epoch: 34\n",
      "Model saved at: result/2024-12-12 17:12:48.697095_pre_reinforce_8_0.002/2024-12-12 17:12:48.697095_pre_reinforce_8_0.002\n"
     ]
    },
    {
     "name": "stderr",
     "output_type": "stream",
     "text": [
      "100%|██████████| 800/800 [00:53<00:00, 15.06it/s]\n"
     ]
    },
    {
     "name": "stdout",
     "output_type": "stream",
     "text": [
      "mean PSNR : 25.233497638702392 35/500\n",
      "mean MSE : 0.003226804898586124 35/500\n",
      "max_psnr: 25.7607328414917, epoch: 34\n",
      "Model saved at: result/2024-12-12 17:12:48.697095_pre_reinforce_8_0.002/2024-12-12 17:12:48.697095_pre_reinforce_8_0.002\n"
     ]
    },
    {
     "name": "stderr",
     "output_type": "stream",
     "text": [
      "100%|██████████| 800/800 [00:52<00:00, 15.12it/s]\n"
     ]
    },
    {
     "name": "stdout",
     "output_type": "stream",
     "text": [
      "mean PSNR : 25.66297399520874 36/500\n",
      "mean MSE : 0.003058739284751937 36/500\n",
      "max_psnr: 25.7607328414917, epoch: 34\n",
      "Model saved at: result/2024-12-12 17:12:48.697095_pre_reinforce_8_0.002/2024-12-12 17:12:48.697095_pre_reinforce_8_0.002\n"
     ]
    },
    {
     "name": "stderr",
     "output_type": "stream",
     "text": [
      "100%|██████████| 800/800 [00:52<00:00, 15.20it/s]\n"
     ]
    },
    {
     "name": "stdout",
     "output_type": "stream",
     "text": [
      "mean PSNR : 24.375363788604737 37/500\n",
      "mean MSE : 0.003942338770721108 37/500\n",
      "max_psnr: 25.7607328414917, epoch: 34\n",
      "Model saved at: result/2024-12-12 17:12:48.697095_pre_reinforce_8_0.002/2024-12-12 17:12:48.697095_pre_reinforce_8_0.002\n"
     ]
    },
    {
     "name": "stderr",
     "output_type": "stream",
     "text": [
      "100%|██████████| 800/800 [00:52<00:00, 15.22it/s]\n"
     ]
    },
    {
     "name": "stdout",
     "output_type": "stream",
     "text": [
      "mean PSNR : 25.591721725463866 38/500\n",
      "mean MSE : 0.0030925471213413404 38/500\n",
      "max_psnr: 25.7607328414917, epoch: 34\n",
      "Model saved at: result/2024-12-12 17:12:48.697095_pre_reinforce_8_0.002/2024-12-12 17:12:48.697095_pre_reinforce_8_0.002\n"
     ]
    },
    {
     "name": "stderr",
     "output_type": "stream",
     "text": [
      "100%|██████████| 800/800 [00:52<00:00, 15.21it/s]\n"
     ]
    },
    {
     "name": "stdout",
     "output_type": "stream",
     "text": [
      "mean PSNR : 24.41408893585205 39/500\n",
      "mean MSE : 0.003927964543690905 39/500\n",
      "max_psnr: 25.7607328414917, epoch: 34\n",
      "Model saved at: result/2024-12-12 17:12:48.697095_pre_reinforce_8_0.002/2024-12-12 17:12:48.697095_pre_reinforce_8_0.002\n"
     ]
    },
    {
     "name": "stderr",
     "output_type": "stream",
     "text": [
      "100%|██████████| 800/800 [00:52<00:00, 15.19it/s]\n"
     ]
    },
    {
     "name": "stdout",
     "output_type": "stream",
     "text": [
      "mean PSNR : 25.001346588134766 40/500\n",
      "mean MSE : 0.003443584047490731 40/500\n",
      "max_psnr: 25.7607328414917, epoch: 34\n",
      "Model saved at: result/2024-12-12 17:12:48.697095_pre_reinforce_8_0.002/2024-12-12 17:12:48.697095_pre_reinforce_8_0.002\n"
     ]
    },
    {
     "name": "stderr",
     "output_type": "stream",
     "text": [
      "100%|██████████| 800/800 [00:52<00:00, 15.24it/s]\n"
     ]
    },
    {
     "name": "stdout",
     "output_type": "stream",
     "text": [
      "mean PSNR : 24.861484317779542 41/500\n",
      "mean MSE : 0.003540429410641082 41/500\n",
      "max_psnr: 25.7607328414917, epoch: 34\n",
      "Model saved at: result/2024-12-12 17:12:48.697095_pre_reinforce_8_0.002/2024-12-12 17:12:48.697095_pre_reinforce_8_0.002\n"
     ]
    },
    {
     "name": "stderr",
     "output_type": "stream",
     "text": [
      "100%|██████████| 800/800 [00:52<00:00, 15.22it/s]\n"
     ]
    },
    {
     "name": "stdout",
     "output_type": "stream",
     "text": [
      "mean PSNR : 24.79914171218872 42/500\n",
      "mean MSE : 0.0035652004613075405 42/500\n",
      "max_psnr: 25.7607328414917, epoch: 34\n",
      "Model saved at: result/2024-12-12 17:12:48.697095_pre_reinforce_8_0.002/2024-12-12 17:12:48.697095_pre_reinforce_8_0.002\n"
     ]
    },
    {
     "name": "stderr",
     "output_type": "stream",
     "text": [
      "100%|██████████| 800/800 [00:52<00:00, 15.25it/s]\n"
     ]
    },
    {
     "name": "stdout",
     "output_type": "stream",
     "text": [
      "mean PSNR : 25.010485572814943 43/500\n",
      "mean MSE : 0.0033926455944310874 43/500\n",
      "max_psnr: 25.7607328414917, epoch: 34\n",
      "Model saved at: result/2024-12-12 17:12:48.697095_pre_reinforce_8_0.002/2024-12-12 17:12:48.697095_pre_reinforce_8_0.002\n"
     ]
    },
    {
     "name": "stderr",
     "output_type": "stream",
     "text": [
      "100%|██████████| 800/800 [00:52<00:00, 15.25it/s]\n"
     ]
    },
    {
     "name": "stdout",
     "output_type": "stream",
     "text": [
      "mean PSNR : 24.813898029327394 44/500\n",
      "mean MSE : 0.0034997303411364554 44/500\n",
      "max_psnr: 25.7607328414917, epoch: 34\n",
      "Model saved at: result/2024-12-12 17:12:48.697095_pre_reinforce_8_0.002/2024-12-12 17:12:48.697095_pre_reinforce_8_0.002\n"
     ]
    },
    {
     "name": "stderr",
     "output_type": "stream",
     "text": [
      "100%|██████████| 800/800 [00:52<00:00, 15.28it/s]\n"
     ]
    },
    {
     "name": "stdout",
     "output_type": "stream",
     "text": [
      "mean PSNR : 24.871786918640137 45/500\n",
      "mean MSE : 0.003502971944399178 45/500\n",
      "max_psnr: 25.7607328414917, epoch: 34\n",
      "Model saved at: result/2024-12-12 17:12:48.697095_pre_reinforce_8_0.002/2024-12-12 17:12:48.697095_pre_reinforce_8_0.002\n"
     ]
    },
    {
     "name": "stderr",
     "output_type": "stream",
     "text": [
      "100%|██████████| 800/800 [00:52<00:00, 15.22it/s]\n"
     ]
    },
    {
     "name": "stdout",
     "output_type": "stream",
     "text": [
      "mean PSNR : 25.024860076904297 46/500\n",
      "mean MSE : 0.0033635654172394424 46/500\n",
      "max_psnr: 25.7607328414917, epoch: 34\n",
      "Model saved at: result/2024-12-12 17:12:48.697095_pre_reinforce_8_0.002/2024-12-12 17:12:48.697095_pre_reinforce_8_0.002\n"
     ]
    },
    {
     "name": "stderr",
     "output_type": "stream",
     "text": [
      "100%|██████████| 800/800 [00:52<00:00, 15.22it/s]\n"
     ]
    },
    {
     "name": "stdout",
     "output_type": "stream",
     "text": [
      "mean PSNR : 25.329705028533937 47/500\n",
      "mean MSE : 0.0031882908893749117 47/500\n",
      "max_psnr: 25.7607328414917, epoch: 34\n",
      "Model saved at: result/2024-12-12 17:12:48.697095_pre_reinforce_8_0.002/2024-12-12 17:12:48.697095_pre_reinforce_8_0.002\n"
     ]
    },
    {
     "name": "stderr",
     "output_type": "stream",
     "text": [
      "100%|██████████| 800/800 [00:52<00:00, 15.25it/s]\n"
     ]
    },
    {
     "name": "stdout",
     "output_type": "stream",
     "text": [
      "mean PSNR : 24.790946197509765 48/500\n",
      "mean MSE : 0.0034893351537175475 48/500\n",
      "max_psnr: 25.7607328414917, epoch: 34\n",
      "Model saved at: result/2024-12-12 17:12:48.697095_pre_reinforce_8_0.002/2024-12-12 17:12:48.697095_pre_reinforce_8_0.002\n"
     ]
    },
    {
     "name": "stderr",
     "output_type": "stream",
     "text": [
      "100%|██████████| 800/800 [00:52<00:00, 15.15it/s]\n"
     ]
    },
    {
     "name": "stdout",
     "output_type": "stream",
     "text": [
      "mean PSNR : 24.923219203948975 49/500\n",
      "mean MSE : 0.0033917736052535476 49/500\n",
      "max_psnr: 25.7607328414917, epoch: 34\n",
      "Model saved at: result/2024-12-12 17:12:48.697095_pre_reinforce_8_0.002/2024-12-12 17:12:48.697095_pre_reinforce_8_0.002\n"
     ]
    },
    {
     "name": "stderr",
     "output_type": "stream",
     "text": [
      "100%|██████████| 800/800 [00:52<00:00, 15.20it/s]\n"
     ]
    },
    {
     "name": "stdout",
     "output_type": "stream",
     "text": [
      "mean PSNR : 25.41774896621704 50/500\n",
      "mean MSE : 0.0031191810197196902 50/500\n",
      "max_psnr: 25.7607328414917, epoch: 34\n",
      "Model saved at: result/2024-12-12 17:12:48.697095_pre_reinforce_8_0.002/2024-12-12 17:12:48.697095_pre_reinforce_8_0.002\n"
     ]
    },
    {
     "name": "stderr",
     "output_type": "stream",
     "text": [
      "100%|██████████| 800/800 [00:52<00:00, 15.21it/s]\n"
     ]
    },
    {
     "name": "stdout",
     "output_type": "stream",
     "text": [
      "mean PSNR : 25.42978401184082 51/500\n",
      "mean MSE : 0.0031330551079008727 51/500\n",
      "max_psnr: 25.7607328414917, epoch: 34\n",
      "Model saved at: result/2024-12-12 17:12:48.697095_pre_reinforce_8_0.002/2024-12-12 17:12:48.697095_pre_reinforce_8_0.002\n"
     ]
    },
    {
     "name": "stderr",
     "output_type": "stream",
     "text": [
      "100%|██████████| 800/800 [00:52<00:00, 15.17it/s]\n"
     ]
    },
    {
     "name": "stdout",
     "output_type": "stream",
     "text": [
      "mean PSNR : 25.10968734741211 52/500\n",
      "mean MSE : 0.003290433498332277 52/500\n",
      "max_psnr: 25.7607328414917, epoch: 34\n",
      "Model saved at: result/2024-12-12 17:12:48.697095_pre_reinforce_8_0.002/2024-12-12 17:12:48.697095_pre_reinforce_8_0.002\n"
     ]
    },
    {
     "name": "stderr",
     "output_type": "stream",
     "text": [
      "100%|██████████| 800/800 [00:54<00:00, 14.56it/s]\n"
     ]
    },
    {
     "name": "stdout",
     "output_type": "stream",
     "text": [
      "mean PSNR : 25.248604679107665 53/500\n",
      "mean MSE : 0.0032275102927815168 53/500\n",
      "max_psnr: 25.7607328414917, epoch: 34\n",
      "Model saved at: result/2024-12-12 17:12:48.697095_pre_reinforce_8_0.002/2024-12-12 17:12:48.697095_pre_reinforce_8_0.002\n"
     ]
    },
    {
     "name": "stderr",
     "output_type": "stream",
     "text": [
      "100%|██████████| 800/800 [00:53<00:00, 14.94it/s]\n"
     ]
    },
    {
     "name": "stdout",
     "output_type": "stream",
     "text": [
      "mean PSNR : 25.13869180679321 54/500\n",
      "mean MSE : 0.003276826456421986 54/500\n",
      "max_psnr: 25.7607328414917, epoch: 34\n",
      "Model saved at: result/2024-12-12 17:12:48.697095_pre_reinforce_8_0.002/2024-12-12 17:12:48.697095_pre_reinforce_8_0.002\n"
     ]
    },
    {
     "name": "stderr",
     "output_type": "stream",
     "text": [
      "100%|██████████| 800/800 [00:53<00:00, 14.96it/s]\n"
     ]
    },
    {
     "name": "stdout",
     "output_type": "stream",
     "text": [
      "mean PSNR : 25.14308187484741 55/500\n",
      "mean MSE : 0.003289193355012685 55/500\n",
      "max_psnr: 25.7607328414917, epoch: 34\n",
      "Model saved at: result/2024-12-12 17:12:48.697095_pre_reinforce_8_0.002/2024-12-12 17:12:48.697095_pre_reinforce_8_0.002\n"
     ]
    },
    {
     "name": "stderr",
     "output_type": "stream",
     "text": [
      "100%|██████████| 800/800 [00:53<00:00, 14.94it/s]\n"
     ]
    },
    {
     "name": "stdout",
     "output_type": "stream",
     "text": [
      "mean PSNR : 25.20544376373291 56/500\n",
      "mean MSE : 0.003265189903322607 56/500\n",
      "max_psnr: 25.7607328414917, epoch: 34\n",
      "Model saved at: result/2024-12-12 17:12:48.697095_pre_reinforce_8_0.002/2024-12-12 17:12:48.697095_pre_reinforce_8_0.002\n"
     ]
    },
    {
     "name": "stderr",
     "output_type": "stream",
     "text": [
      "100%|██████████| 800/800 [00:53<00:00, 14.96it/s]\n"
     ]
    },
    {
     "name": "stdout",
     "output_type": "stream",
     "text": [
      "mean PSNR : 25.25973850250244 57/500\n",
      "mean MSE : 0.003241741225356236 57/500\n",
      "max_psnr: 25.7607328414917, epoch: 34\n",
      "Model saved at: result/2024-12-12 17:12:48.697095_pre_reinforce_8_0.002/2024-12-12 17:12:48.697095_pre_reinforce_8_0.002\n"
     ]
    },
    {
     "name": "stderr",
     "output_type": "stream",
     "text": [
      "100%|██████████| 800/800 [00:53<00:00, 14.95it/s]\n"
     ]
    },
    {
     "name": "stdout",
     "output_type": "stream",
     "text": [
      "mean PSNR : 25.332769470214842 58/500\n",
      "mean MSE : 0.0031993829226121305 58/500\n",
      "max_psnr: 25.7607328414917, epoch: 34\n",
      "Model saved at: result/2024-12-12 17:12:48.697095_pre_reinforce_8_0.002/2024-12-12 17:12:48.697095_pre_reinforce_8_0.002\n"
     ]
    },
    {
     "name": "stderr",
     "output_type": "stream",
     "text": [
      "100%|██████████| 800/800 [00:53<00:00, 14.91it/s]\n"
     ]
    },
    {
     "name": "stdout",
     "output_type": "stream",
     "text": [
      "mean PSNR : 25.445468139648437 59/500\n",
      "mean MSE : 0.0031354835629463194 59/500\n",
      "max_psnr: 25.7607328414917, epoch: 34\n",
      "Model saved at: result/2024-12-12 17:12:48.697095_pre_reinforce_8_0.002/2024-12-12 17:12:48.697095_pre_reinforce_8_0.002\n"
     ]
    },
    {
     "name": "stderr",
     "output_type": "stream",
     "text": [
      "100%|██████████| 800/800 [00:53<00:00, 14.94it/s]\n"
     ]
    },
    {
     "name": "stdout",
     "output_type": "stream",
     "text": [
      "mean PSNR : 24.445939674377442 60/500\n",
      "mean MSE : 0.003878006951417774 60/500\n",
      "max_psnr: 25.7607328414917, epoch: 34\n",
      "Model saved at: result/2024-12-12 17:12:48.697095_pre_reinforce_8_0.002/2024-12-12 17:12:48.697095_pre_reinforce_8_0.002\n"
     ]
    },
    {
     "name": "stderr",
     "output_type": "stream",
     "text": [
      "100%|██████████| 800/800 [00:53<00:00, 14.94it/s]\n"
     ]
    },
    {
     "name": "stdout",
     "output_type": "stream",
     "text": [
      "mean PSNR : 25.12560531616211 61/500\n",
      "mean MSE : 0.0033114560978719965 61/500\n",
      "max_psnr: 25.7607328414917, epoch: 34\n",
      "Model saved at: result/2024-12-12 17:12:48.697095_pre_reinforce_8_0.002/2024-12-12 17:12:48.697095_pre_reinforce_8_0.002\n"
     ]
    },
    {
     "name": "stderr",
     "output_type": "stream",
     "text": [
      "100%|██████████| 800/800 [00:53<00:00, 14.98it/s]\n"
     ]
    },
    {
     "name": "stdout",
     "output_type": "stream",
     "text": [
      "mean PSNR : 25.026461715698243 62/500\n",
      "mean MSE : 0.0033589206845499576 62/500\n",
      "max_psnr: 25.7607328414917, epoch: 34\n",
      "Model saved at: result/2024-12-12 17:12:48.697095_pre_reinforce_8_0.002/2024-12-12 17:12:48.697095_pre_reinforce_8_0.002\n"
     ]
    },
    {
     "name": "stderr",
     "output_type": "stream",
     "text": [
      "100%|██████████| 800/800 [00:53<00:00, 14.96it/s]\n"
     ]
    },
    {
     "name": "stdout",
     "output_type": "stream",
     "text": [
      "mean PSNR : 25.04756134033203 63/500\n",
      "mean MSE : 0.003359043060336262 63/500\n",
      "max_psnr: 25.7607328414917, epoch: 34\n",
      "Model saved at: result/2024-12-12 17:12:48.697095_pre_reinforce_8_0.002/2024-12-12 17:12:48.697095_pre_reinforce_8_0.002\n"
     ]
    },
    {
     "name": "stderr",
     "output_type": "stream",
     "text": [
      "100%|██████████| 800/800 [00:53<00:00, 14.96it/s]\n"
     ]
    },
    {
     "name": "stdout",
     "output_type": "stream",
     "text": [
      "mean PSNR : 25.470106716156007 64/500\n",
      "mean MSE : 0.003132090167491697 64/500\n",
      "max_psnr: 25.7607328414917, epoch: 34\n",
      "Model saved at: result/2024-12-12 17:12:48.697095_pre_reinforce_8_0.002/2024-12-12 17:12:48.697095_pre_reinforce_8_0.002\n"
     ]
    },
    {
     "name": "stderr",
     "output_type": "stream",
     "text": [
      "100%|██████████| 800/800 [00:53<00:00, 14.96it/s]\n"
     ]
    },
    {
     "name": "stdout",
     "output_type": "stream",
     "text": [
      "mean PSNR : 25.46799436569214 65/500\n",
      "mean MSE : 0.003100528015056625 65/500\n",
      "max_psnr: 25.7607328414917, epoch: 34\n",
      "Model saved at: result/2024-12-12 17:12:48.697095_pre_reinforce_8_0.002/2024-12-12 17:12:48.697095_pre_reinforce_8_0.002\n"
     ]
    },
    {
     "name": "stderr",
     "output_type": "stream",
     "text": [
      "100%|██████████| 800/800 [00:53<00:00, 14.95it/s]\n"
     ]
    },
    {
     "name": "stdout",
     "output_type": "stream",
     "text": [
      "mean PSNR : 25.401438617706297 66/500\n",
      "mean MSE : 0.0031527108850423246 66/500\n",
      "max_psnr: 25.7607328414917, epoch: 34\n",
      "Model saved at: result/2024-12-12 17:12:48.697095_pre_reinforce_8_0.002/2024-12-12 17:12:48.697095_pre_reinforce_8_0.002\n"
     ]
    },
    {
     "name": "stderr",
     "output_type": "stream",
     "text": [
      "100%|██████████| 800/800 [00:53<00:00, 14.98it/s]\n"
     ]
    },
    {
     "name": "stdout",
     "output_type": "stream",
     "text": [
      "mean PSNR : 25.54346803665161 67/500\n",
      "mean MSE : 0.0030403991136699914 67/500\n",
      "max_psnr: 25.7607328414917, epoch: 34\n",
      "Model saved at: result/2024-12-12 17:12:48.697095_pre_reinforce_8_0.002/2024-12-12 17:12:48.697095_pre_reinforce_8_0.002\n"
     ]
    },
    {
     "name": "stderr",
     "output_type": "stream",
     "text": [
      "100%|██████████| 800/800 [00:53<00:00, 14.92it/s]\n"
     ]
    },
    {
     "name": "stdout",
     "output_type": "stream",
     "text": [
      "mean PSNR : 25.83650407791138 68/500\n",
      "mean MSE : 0.0028875227639218793 68/500\n",
      "max_psnr: 25.83650407791138, epoch: 68\n",
      "Model saved at: result/2024-12-12 17:12:48.697095_pre_reinforce_8_0.002/2024-12-12 17:12:48.697095_pre_reinforce_8_0.002\n"
     ]
    },
    {
     "name": "stderr",
     "output_type": "stream",
     "text": [
      "100%|██████████| 800/800 [00:53<00:00, 14.89it/s]\n"
     ]
    },
    {
     "name": "stdout",
     "output_type": "stream",
     "text": [
      "mean PSNR : 25.60610704421997 69/500\n",
      "mean MSE : 0.003012095708400011 69/500\n",
      "max_psnr: 25.83650407791138, epoch: 68\n",
      "Model saved at: result/2024-12-12 17:12:48.697095_pre_reinforce_8_0.002/2024-12-12 17:12:48.697095_pre_reinforce_8_0.002\n"
     ]
    },
    {
     "name": "stderr",
     "output_type": "stream",
     "text": [
      "100%|██████████| 800/800 [00:53<00:00, 14.95it/s]\n"
     ]
    },
    {
     "name": "stdout",
     "output_type": "stream",
     "text": [
      "mean PSNR : 25.571160526275634 70/500\n",
      "mean MSE : 0.00301090610853862 70/500\n",
      "max_psnr: 25.83650407791138, epoch: 68\n",
      "Model saved at: result/2024-12-12 17:12:48.697095_pre_reinforce_8_0.002/2024-12-12 17:12:48.697095_pre_reinforce_8_0.002\n"
     ]
    },
    {
     "name": "stderr",
     "output_type": "stream",
     "text": [
      "100%|██████████| 800/800 [00:53<00:00, 14.95it/s]\n"
     ]
    },
    {
     "name": "stdout",
     "output_type": "stream",
     "text": [
      "mean PSNR : 25.257707901000977 71/500\n",
      "mean MSE : 0.003190375647391193 71/500\n",
      "max_psnr: 25.83650407791138, epoch: 68\n",
      "Model saved at: result/2024-12-12 17:12:48.697095_pre_reinforce_8_0.002/2024-12-12 17:12:48.697095_pre_reinforce_8_0.002\n"
     ]
    },
    {
     "name": "stderr",
     "output_type": "stream",
     "text": [
      "100%|██████████| 800/800 [00:53<00:00, 14.94it/s]\n"
     ]
    },
    {
     "name": "stdout",
     "output_type": "stream",
     "text": [
      "mean PSNR : 25.326909923553465 72/500\n",
      "mean MSE : 0.003170099378330633 72/500\n",
      "max_psnr: 25.83650407791138, epoch: 68\n",
      "Model saved at: result/2024-12-12 17:12:48.697095_pre_reinforce_8_0.002/2024-12-12 17:12:48.697095_pre_reinforce_8_0.002\n"
     ]
    },
    {
     "name": "stderr",
     "output_type": "stream",
     "text": [
      "100%|██████████| 800/800 [00:53<00:00, 14.92it/s]\n"
     ]
    },
    {
     "name": "stdout",
     "output_type": "stream",
     "text": [
      "mean PSNR : 25.550672855377197 73/500\n",
      "mean MSE : 0.003088587191305123 73/500\n",
      "max_psnr: 25.83650407791138, epoch: 68\n",
      "Model saved at: result/2024-12-12 17:12:48.697095_pre_reinforce_8_0.002/2024-12-12 17:12:48.697095_pre_reinforce_8_0.002\n"
     ]
    },
    {
     "name": "stderr",
     "output_type": "stream",
     "text": [
      "100%|██████████| 800/800 [00:53<00:00, 14.90it/s]\n"
     ]
    },
    {
     "name": "stdout",
     "output_type": "stream",
     "text": [
      "mean PSNR : 25.502693519592285 74/500\n",
      "mean MSE : 0.0031161794520448895 74/500\n",
      "max_psnr: 25.83650407791138, epoch: 68\n",
      "Model saved at: result/2024-12-12 17:12:48.697095_pre_reinforce_8_0.002/2024-12-12 17:12:48.697095_pre_reinforce_8_0.002\n"
     ]
    },
    {
     "name": "stderr",
     "output_type": "stream",
     "text": [
      "100%|██████████| 800/800 [00:53<00:00, 14.93it/s]\n"
     ]
    },
    {
     "name": "stdout",
     "output_type": "stream",
     "text": [
      "mean PSNR : 25.420060806274414 75/500\n",
      "mean MSE : 0.003173069563345052 75/500\n",
      "max_psnr: 25.83650407791138, epoch: 68\n",
      "Model saved at: result/2024-12-12 17:12:48.697095_pre_reinforce_8_0.002/2024-12-12 17:12:48.697095_pre_reinforce_8_0.002\n"
     ]
    },
    {
     "name": "stderr",
     "output_type": "stream",
     "text": [
      "100%|██████████| 800/800 [00:53<00:00, 14.97it/s]\n"
     ]
    },
    {
     "name": "stdout",
     "output_type": "stream",
     "text": [
      "mean PSNR : 25.478099002838135 76/500\n",
      "mean MSE : 0.0031138048024149613 76/500\n",
      "max_psnr: 25.83650407791138, epoch: 68\n",
      "Model saved at: result/2024-12-12 17:12:48.697095_pre_reinforce_8_0.002/2024-12-12 17:12:48.697095_pre_reinforce_8_0.002\n"
     ]
    },
    {
     "name": "stderr",
     "output_type": "stream",
     "text": [
      "100%|██████████| 800/800 [00:53<00:00, 14.96it/s]\n"
     ]
    },
    {
     "name": "stdout",
     "output_type": "stream",
     "text": [
      "mean PSNR : 25.299492321014405 77/500\n",
      "mean MSE : 0.003191329719265923 77/500\n",
      "max_psnr: 25.83650407791138, epoch: 68\n",
      "Model saved at: result/2024-12-12 17:12:48.697095_pre_reinforce_8_0.002/2024-12-12 17:12:48.697095_pre_reinforce_8_0.002\n"
     ]
    },
    {
     "name": "stderr",
     "output_type": "stream",
     "text": [
      "100%|██████████| 800/800 [00:53<00:00, 14.97it/s]\n"
     ]
    },
    {
     "name": "stdout",
     "output_type": "stream",
     "text": [
      "mean PSNR : 25.591969985961914 78/500\n",
      "mean MSE : 0.003038151778746396 78/500\n",
      "max_psnr: 25.83650407791138, epoch: 68\n",
      "Model saved at: result/2024-12-12 17:12:48.697095_pre_reinforce_8_0.002/2024-12-12 17:12:48.697095_pre_reinforce_8_0.002\n"
     ]
    },
    {
     "name": "stderr",
     "output_type": "stream",
     "text": [
      "100%|██████████| 800/800 [00:53<00:00, 15.01it/s]\n"
     ]
    },
    {
     "name": "stdout",
     "output_type": "stream",
     "text": [
      "mean PSNR : 25.23492027282715 79/500\n",
      "mean MSE : 0.003233962310478091 79/500\n",
      "max_psnr: 25.83650407791138, epoch: 68\n",
      "Model saved at: result/2024-12-12 17:12:48.697095_pre_reinforce_8_0.002/2024-12-12 17:12:48.697095_pre_reinforce_8_0.002\n"
     ]
    },
    {
     "name": "stderr",
     "output_type": "stream",
     "text": [
      "100%|██████████| 800/800 [00:53<00:00, 15.00it/s]\n"
     ]
    },
    {
     "name": "stdout",
     "output_type": "stream",
     "text": [
      "mean PSNR : 25.211135807037355 80/500\n",
      "mean MSE : 0.003305961191654205 80/500\n",
      "max_psnr: 25.83650407791138, epoch: 68\n",
      "Model saved at: result/2024-12-12 17:12:48.697095_pre_reinforce_8_0.002/2024-12-12 17:12:48.697095_pre_reinforce_8_0.002\n"
     ]
    },
    {
     "name": "stderr",
     "output_type": "stream",
     "text": [
      "100%|██████████| 800/800 [00:53<00:00, 14.94it/s]\n"
     ]
    },
    {
     "name": "stdout",
     "output_type": "stream",
     "text": [
      "mean PSNR : 23.807051486968994 81/500\n",
      "mean MSE : 0.00439478532760404 81/500\n",
      "max_psnr: 25.83650407791138, epoch: 68\n",
      "Model saved at: result/2024-12-12 17:12:48.697095_pre_reinforce_8_0.002/2024-12-12 17:12:48.697095_pre_reinforce_8_0.002\n"
     ]
    },
    {
     "name": "stderr",
     "output_type": "stream",
     "text": [
      "100%|██████████| 800/800 [00:53<00:00, 14.93it/s]\n"
     ]
    },
    {
     "name": "stdout",
     "output_type": "stream",
     "text": [
      "mean PSNR : 24.813819522857667 82/500\n",
      "mean MSE : 0.003511802885332145 82/500\n",
      "max_psnr: 25.83650407791138, epoch: 68\n",
      "Model saved at: result/2024-12-12 17:12:48.697095_pre_reinforce_8_0.002/2024-12-12 17:12:48.697095_pre_reinforce_8_0.002\n"
     ]
    },
    {
     "name": "stderr",
     "output_type": "stream",
     "text": [
      "100%|██████████| 800/800 [00:53<00:00, 14.94it/s]\n"
     ]
    },
    {
     "name": "stdout",
     "output_type": "stream",
     "text": [
      "mean PSNR : 25.01289535522461 83/500\n",
      "mean MSE : 0.003375809204299003 83/500\n",
      "max_psnr: 25.83650407791138, epoch: 68\n",
      "Model saved at: result/2024-12-12 17:12:48.697095_pre_reinforce_8_0.002/2024-12-12 17:12:48.697095_pre_reinforce_8_0.002\n"
     ]
    },
    {
     "name": "stderr",
     "output_type": "stream",
     "text": [
      "100%|██████████| 800/800 [00:53<00:00, 14.97it/s]\n"
     ]
    },
    {
     "name": "stdout",
     "output_type": "stream",
     "text": [
      "mean PSNR : 23.908821258544922 84/500\n",
      "mean MSE : 0.0041766654816456136 84/500\n",
      "max_psnr: 25.83650407791138, epoch: 68\n",
      "Model saved at: result/2024-12-12 17:12:48.697095_pre_reinforce_8_0.002/2024-12-12 17:12:48.697095_pre_reinforce_8_0.002\n"
     ]
    },
    {
     "name": "stderr",
     "output_type": "stream",
     "text": [
      "100%|██████████| 800/800 [00:53<00:00, 14.93it/s]\n"
     ]
    },
    {
     "name": "stdout",
     "output_type": "stream",
     "text": [
      "mean PSNR : 24.897420749664306 85/500\n",
      "mean MSE : 0.003453332631615922 85/500\n",
      "max_psnr: 25.83650407791138, epoch: 68\n",
      "Model saved at: result/2024-12-12 17:12:48.697095_pre_reinforce_8_0.002/2024-12-12 17:12:48.697095_pre_reinforce_8_0.002\n"
     ]
    },
    {
     "name": "stderr",
     "output_type": "stream",
     "text": [
      "100%|██████████| 800/800 [00:53<00:00, 14.90it/s]\n"
     ]
    },
    {
     "name": "stdout",
     "output_type": "stream",
     "text": [
      "mean PSNR : 25.451338233947755 86/500\n",
      "mean MSE : 0.003096228000940755 86/500\n",
      "max_psnr: 25.83650407791138, epoch: 68\n",
      "Model saved at: result/2024-12-12 17:12:48.697095_pre_reinforce_8_0.002/2024-12-12 17:12:48.697095_pre_reinforce_8_0.002\n"
     ]
    },
    {
     "name": "stderr",
     "output_type": "stream",
     "text": [
      "100%|██████████| 800/800 [00:53<00:00, 14.93it/s]\n"
     ]
    },
    {
     "name": "stdout",
     "output_type": "stream",
     "text": [
      "mean PSNR : 25.33116807937622 87/500\n",
      "mean MSE : 0.003181017800234258 87/500\n",
      "max_psnr: 25.83650407791138, epoch: 68\n",
      "Model saved at: result/2024-12-12 17:12:48.697095_pre_reinforce_8_0.002/2024-12-12 17:12:48.697095_pre_reinforce_8_0.002\n"
     ]
    },
    {
     "name": "stderr",
     "output_type": "stream",
     "text": [
      "100%|██████████| 800/800 [00:53<00:00, 14.92it/s]\n"
     ]
    },
    {
     "name": "stdout",
     "output_type": "stream",
     "text": [
      "mean PSNR : 25.529249286651613 88/500\n",
      "mean MSE : 0.003100309225264937 88/500\n",
      "max_psnr: 25.83650407791138, epoch: 68\n",
      "Model saved at: result/2024-12-12 17:12:48.697095_pre_reinforce_8_0.002/2024-12-12 17:12:48.697095_pre_reinforce_8_0.002\n"
     ]
    },
    {
     "name": "stderr",
     "output_type": "stream",
     "text": [
      "100%|██████████| 800/800 [00:53<00:00, 14.95it/s]\n"
     ]
    },
    {
     "name": "stdout",
     "output_type": "stream",
     "text": [
      "mean PSNR : 25.16164051055908 89/500\n",
      "mean MSE : 0.003293280806392431 89/500\n",
      "max_psnr: 25.83650407791138, epoch: 68\n",
      "Model saved at: result/2024-12-12 17:12:48.697095_pre_reinforce_8_0.002/2024-12-12 17:12:48.697095_pre_reinforce_8_0.002\n"
     ]
    },
    {
     "name": "stderr",
     "output_type": "stream",
     "text": [
      "100%|██████████| 800/800 [00:53<00:00, 14.98it/s]\n"
     ]
    },
    {
     "name": "stdout",
     "output_type": "stream",
     "text": [
      "mean PSNR : 25.436471977233886 90/500\n",
      "mean MSE : 0.0030609059100970624 90/500\n",
      "max_psnr: 25.83650407791138, epoch: 68\n",
      "Model saved at: result/2024-12-12 17:12:48.697095_pre_reinforce_8_0.002/2024-12-12 17:12:48.697095_pre_reinforce_8_0.002\n"
     ]
    },
    {
     "name": "stderr",
     "output_type": "stream",
     "text": [
      "100%|██████████| 800/800 [00:53<00:00, 15.00it/s]\n"
     ]
    },
    {
     "name": "stdout",
     "output_type": "stream",
     "text": [
      "mean PSNR : 25.707589740753175 91/500\n",
      "mean MSE : 0.0029834722995292396 91/500\n",
      "max_psnr: 25.83650407791138, epoch: 68\n",
      "Model saved at: result/2024-12-12 17:12:48.697095_pre_reinforce_8_0.002/2024-12-12 17:12:48.697095_pre_reinforce_8_0.002\n"
     ]
    },
    {
     "name": "stderr",
     "output_type": "stream",
     "text": [
      "100%|██████████| 800/800 [00:53<00:00, 14.97it/s]\n"
     ]
    },
    {
     "name": "stdout",
     "output_type": "stream",
     "text": [
      "mean PSNR : 25.570883350372313 92/500\n",
      "mean MSE : 0.0030399518099147827 92/500\n",
      "max_psnr: 25.83650407791138, epoch: 68\n",
      "Model saved at: result/2024-12-12 17:12:48.697095_pre_reinforce_8_0.002/2024-12-12 17:12:48.697095_pre_reinforce_8_0.002\n"
     ]
    },
    {
     "name": "stderr",
     "output_type": "stream",
     "text": [
      "100%|██████████| 800/800 [00:53<00:00, 14.96it/s]\n"
     ]
    },
    {
     "name": "stdout",
     "output_type": "stream",
     "text": [
      "mean PSNR : 25.039690608978272 93/500\n",
      "mean MSE : 0.0033505007962230595 93/500\n",
      "max_psnr: 25.83650407791138, epoch: 68\n",
      "Model saved at: result/2024-12-12 17:12:48.697095_pre_reinforce_8_0.002/2024-12-12 17:12:48.697095_pre_reinforce_8_0.002\n"
     ]
    },
    {
     "name": "stderr",
     "output_type": "stream",
     "text": [
      "100%|██████████| 800/800 [00:53<00:00, 14.96it/s]\n"
     ]
    },
    {
     "name": "stdout",
     "output_type": "stream",
     "text": [
      "mean PSNR : 25.40150785446167 94/500\n",
      "mean MSE : 0.0031022967211902144 94/500\n",
      "max_psnr: 25.83650407791138, epoch: 68\n",
      "Model saved at: result/2024-12-12 17:12:48.697095_pre_reinforce_8_0.002/2024-12-12 17:12:48.697095_pre_reinforce_8_0.002\n"
     ]
    },
    {
     "name": "stderr",
     "output_type": "stream",
     "text": [
      "100%|██████████| 800/800 [00:53<00:00, 14.95it/s]\n"
     ]
    },
    {
     "name": "stdout",
     "output_type": "stream",
     "text": [
      "mean PSNR : 25.790175971984862 95/500\n",
      "mean MSE : 0.002915997394011356 95/500\n",
      "max_psnr: 25.83650407791138, epoch: 68\n",
      "Model saved at: result/2024-12-12 17:12:48.697095_pre_reinforce_8_0.002/2024-12-12 17:12:48.697095_pre_reinforce_8_0.002\n"
     ]
    },
    {
     "name": "stderr",
     "output_type": "stream",
     "text": [
      "100%|██████████| 800/800 [00:53<00:00, 14.93it/s]\n"
     ]
    },
    {
     "name": "stdout",
     "output_type": "stream",
     "text": [
      "mean PSNR : 24.23941246032715 96/500\n",
      "mean MSE : 0.003929126755101606 96/500\n",
      "max_psnr: 25.83650407791138, epoch: 68\n",
      "Model saved at: result/2024-12-12 17:12:48.697095_pre_reinforce_8_0.002/2024-12-12 17:12:48.697095_pre_reinforce_8_0.002\n"
     ]
    },
    {
     "name": "stderr",
     "output_type": "stream",
     "text": [
      "100%|██████████| 800/800 [00:53<00:00, 14.92it/s]\n"
     ]
    },
    {
     "name": "stdout",
     "output_type": "stream",
     "text": [
      "mean PSNR : 25.529109897613527 97/500\n",
      "mean MSE : 0.0030737482843687758 97/500\n",
      "max_psnr: 25.83650407791138, epoch: 68\n",
      "Model saved at: result/2024-12-12 17:12:48.697095_pre_reinforce_8_0.002/2024-12-12 17:12:48.697095_pre_reinforce_8_0.002\n"
     ]
    },
    {
     "name": "stderr",
     "output_type": "stream",
     "text": [
      "100%|██████████| 800/800 [00:53<00:00, 14.93it/s]\n"
     ]
    },
    {
     "name": "stdout",
     "output_type": "stream",
     "text": [
      "mean PSNR : 25.32884515762329 98/500\n",
      "mean MSE : 0.0031907116482034325 98/500\n",
      "max_psnr: 25.83650407791138, epoch: 68\n",
      "Model saved at: result/2024-12-12 17:12:48.697095_pre_reinforce_8_0.002/2024-12-12 17:12:48.697095_pre_reinforce_8_0.002\n"
     ]
    },
    {
     "name": "stderr",
     "output_type": "stream",
     "text": [
      "100%|██████████| 800/800 [00:53<00:00, 14.92it/s]\n"
     ]
    },
    {
     "name": "stdout",
     "output_type": "stream",
     "text": [
      "mean PSNR : 25.19740238189697 99/500\n",
      "mean MSE : 0.0032398876606021076 99/500\n",
      "max_psnr: 25.83650407791138, epoch: 68\n",
      "Model saved at: result/2024-12-12 17:12:48.697095_pre_reinforce_8_0.002/2024-12-12 17:12:48.697095_pre_reinforce_8_0.002\n"
     ]
    },
    {
     "name": "stderr",
     "output_type": "stream",
     "text": [
      "100%|██████████| 800/800 [00:53<00:00, 14.94it/s]\n"
     ]
    },
    {
     "name": "stdout",
     "output_type": "stream",
     "text": [
      "mean PSNR : 25.50059778213501 100/500\n",
      "mean MSE : 0.003097311024321243 100/500\n",
      "max_psnr: 25.83650407791138, epoch: 68\n",
      "Model saved at: result/2024-12-12 17:12:48.697095_pre_reinforce_8_0.002/2024-12-12 17:12:48.697095_pre_reinforce_8_0.002\n"
     ]
    },
    {
     "name": "stderr",
     "output_type": "stream",
     "text": [
      "100%|██████████| 800/800 [00:53<00:00, 14.94it/s]\n"
     ]
    },
    {
     "name": "stdout",
     "output_type": "stream",
     "text": [
      "mean PSNR : 25.08154207229614 101/500\n",
      "mean MSE : 0.003382558959419839 101/500\n",
      "max_psnr: 25.83650407791138, epoch: 68\n",
      "Model saved at: result/2024-12-12 17:12:48.697095_pre_reinforce_8_0.002/2024-12-12 17:12:48.697095_pre_reinforce_8_0.002\n"
     ]
    },
    {
     "name": "stderr",
     "output_type": "stream",
     "text": [
      "100%|██████████| 800/800 [00:53<00:00, 14.95it/s]\n"
     ]
    },
    {
     "name": "stdout",
     "output_type": "stream",
     "text": [
      "mean PSNR : 24.824951782226563 102/500\n",
      "mean MSE : 0.0035366592032369227 102/500\n",
      "max_psnr: 25.83650407791138, epoch: 68\n",
      "Model saved at: result/2024-12-12 17:12:48.697095_pre_reinforce_8_0.002/2024-12-12 17:12:48.697095_pre_reinforce_8_0.002\n"
     ]
    },
    {
     "name": "stderr",
     "output_type": "stream",
     "text": [
      "100%|██████████| 800/800 [00:53<00:00, 14.94it/s]\n"
     ]
    },
    {
     "name": "stdout",
     "output_type": "stream",
     "text": [
      "mean PSNR : 24.26704200744629 103/500\n",
      "mean MSE : 0.003935151157202199 103/500\n",
      "max_psnr: 25.83650407791138, epoch: 68\n",
      "Model saved at: result/2024-12-12 17:12:48.697095_pre_reinforce_8_0.002/2024-12-12 17:12:48.697095_pre_reinforce_8_0.002\n"
     ]
    },
    {
     "name": "stderr",
     "output_type": "stream",
     "text": [
      "100%|██████████| 800/800 [00:53<00:00, 14.92it/s]\n"
     ]
    },
    {
     "name": "stdout",
     "output_type": "stream",
     "text": [
      "mean PSNR : 25.355292510986327 104/500\n",
      "mean MSE : 0.0032127268356271087 104/500\n",
      "max_psnr: 25.83650407791138, epoch: 68\n",
      "Model saved at: result/2024-12-12 17:12:48.697095_pre_reinforce_8_0.002/2024-12-12 17:12:48.697095_pre_reinforce_8_0.002\n"
     ]
    },
    {
     "name": "stderr",
     "output_type": "stream",
     "text": [
      "100%|██████████| 800/800 [00:53<00:00, 14.92it/s]\n"
     ]
    },
    {
     "name": "stdout",
     "output_type": "stream",
     "text": [
      "mean PSNR : 25.30411840438843 105/500\n",
      "mean MSE : 0.0032746138877701014 105/500\n",
      "max_psnr: 25.83650407791138, epoch: 68\n",
      "Model saved at: result/2024-12-12 17:12:48.697095_pre_reinforce_8_0.002/2024-12-12 17:12:48.697095_pre_reinforce_8_0.002\n"
     ]
    },
    {
     "name": "stderr",
     "output_type": "stream",
     "text": [
      "100%|██████████| 800/800 [00:53<00:00, 14.90it/s]\n"
     ]
    },
    {
     "name": "stdout",
     "output_type": "stream",
     "text": [
      "mean PSNR : 24.981683502197267 106/500\n",
      "mean MSE : 0.003421987968031317 106/500\n",
      "max_psnr: 25.83650407791138, epoch: 68\n",
      "Model saved at: result/2024-12-12 17:12:48.697095_pre_reinforce_8_0.002/2024-12-12 17:12:48.697095_pre_reinforce_8_0.002\n"
     ]
    },
    {
     "name": "stderr",
     "output_type": "stream",
     "text": [
      "100%|██████████| 800/800 [00:53<00:00, 14.92it/s]\n"
     ]
    },
    {
     "name": "stdout",
     "output_type": "stream",
     "text": [
      "mean PSNR : 24.94388328552246 107/500\n",
      "mean MSE : 0.0034398921485990284 107/500\n",
      "max_psnr: 25.83650407791138, epoch: 68\n",
      "Model saved at: result/2024-12-12 17:12:48.697095_pre_reinforce_8_0.002/2024-12-12 17:12:48.697095_pre_reinforce_8_0.002\n"
     ]
    },
    {
     "name": "stderr",
     "output_type": "stream",
     "text": [
      "100%|██████████| 800/800 [00:53<00:00, 14.92it/s]\n"
     ]
    },
    {
     "name": "stdout",
     "output_type": "stream",
     "text": [
      "mean PSNR : 25.17996639251709 108/500\n",
      "mean MSE : 0.0032807573222089557 108/500\n",
      "max_psnr: 25.83650407791138, epoch: 68\n",
      "Model saved at: result/2024-12-12 17:12:48.697095_pre_reinforce_8_0.002/2024-12-12 17:12:48.697095_pre_reinforce_8_0.002\n"
     ]
    },
    {
     "name": "stderr",
     "output_type": "stream",
     "text": [
      "100%|██████████| 800/800 [00:53<00:00, 14.89it/s]\n"
     ]
    },
    {
     "name": "stdout",
     "output_type": "stream",
     "text": [
      "mean PSNR : 25.279450855255128 109/500\n",
      "mean MSE : 0.003194427457638085 109/500\n",
      "max_psnr: 25.83650407791138, epoch: 68\n",
      "Model saved at: result/2024-12-12 17:12:48.697095_pre_reinforce_8_0.002/2024-12-12 17:12:48.697095_pre_reinforce_8_0.002\n"
     ]
    },
    {
     "name": "stderr",
     "output_type": "stream",
     "text": [
      "100%|██████████| 800/800 [00:53<00:00, 14.93it/s]\n"
     ]
    },
    {
     "name": "stdout",
     "output_type": "stream",
     "text": [
      "mean PSNR : 24.77078649520874 110/500\n",
      "mean MSE : 0.0035503701434936373 110/500\n",
      "max_psnr: 25.83650407791138, epoch: 68\n",
      "Model saved at: result/2024-12-12 17:12:48.697095_pre_reinforce_8_0.002/2024-12-12 17:12:48.697095_pre_reinforce_8_0.002\n"
     ]
    },
    {
     "name": "stderr",
     "output_type": "stream",
     "text": [
      "100%|██████████| 800/800 [00:53<00:00, 14.99it/s]\n"
     ]
    },
    {
     "name": "stdout",
     "output_type": "stream",
     "text": [
      "mean PSNR : 24.960076999664306 111/500\n",
      "mean MSE : 0.003419813960790634 111/500\n",
      "max_psnr: 25.83650407791138, epoch: 68\n",
      "Model saved at: result/2024-12-12 17:12:48.697095_pre_reinforce_8_0.002/2024-12-12 17:12:48.697095_pre_reinforce_8_0.002\n"
     ]
    },
    {
     "name": "stderr",
     "output_type": "stream",
     "text": [
      "100%|██████████| 800/800 [00:53<00:00, 14.91it/s]\n"
     ]
    },
    {
     "name": "stdout",
     "output_type": "stream",
     "text": [
      "mean PSNR : 24.8326629447937 112/500\n",
      "mean MSE : 0.0035363035020418467 112/500\n",
      "max_psnr: 25.83650407791138, epoch: 68\n",
      "Model saved at: result/2024-12-12 17:12:48.697095_pre_reinforce_8_0.002/2024-12-12 17:12:48.697095_pre_reinforce_8_0.002\n"
     ]
    },
    {
     "name": "stderr",
     "output_type": "stream",
     "text": [
      "100%|██████████| 800/800 [00:53<00:00, 14.98it/s]\n"
     ]
    },
    {
     "name": "stdout",
     "output_type": "stream",
     "text": [
      "mean PSNR : 24.71471549987793 113/500\n",
      "mean MSE : 0.0036040445999242364 113/500\n",
      "max_psnr: 25.83650407791138, epoch: 68\n",
      "Model saved at: result/2024-12-12 17:12:48.697095_pre_reinforce_8_0.002/2024-12-12 17:12:48.697095_pre_reinforce_8_0.002\n"
     ]
    },
    {
     "name": "stderr",
     "output_type": "stream",
     "text": [
      "100%|██████████| 800/800 [00:53<00:00, 14.94it/s]\n"
     ]
    },
    {
     "name": "stdout",
     "output_type": "stream",
     "text": [
      "mean PSNR : 24.762698154449463 114/500\n",
      "mean MSE : 0.003564292733790353 114/500\n",
      "max_psnr: 25.83650407791138, epoch: 68\n",
      "Model saved at: result/2024-12-12 17:12:48.697095_pre_reinforce_8_0.002/2024-12-12 17:12:48.697095_pre_reinforce_8_0.002\n"
     ]
    },
    {
     "name": "stderr",
     "output_type": "stream",
     "text": [
      "100%|██████████| 800/800 [00:53<00:00, 14.93it/s]\n"
     ]
    },
    {
     "name": "stdout",
     "output_type": "stream",
     "text": [
      "mean PSNR : 24.79501434326172 115/500\n",
      "mean MSE : 0.003538432940840721 115/500\n",
      "max_psnr: 25.83650407791138, epoch: 68\n",
      "Model saved at: result/2024-12-12 17:12:48.697095_pre_reinforce_8_0.002/2024-12-12 17:12:48.697095_pre_reinforce_8_0.002\n"
     ]
    },
    {
     "name": "stderr",
     "output_type": "stream",
     "text": [
      "100%|██████████| 800/800 [00:53<00:00, 14.93it/s]\n"
     ]
    },
    {
     "name": "stdout",
     "output_type": "stream",
     "text": [
      "mean PSNR : 25.018031673431395 116/500\n",
      "mean MSE : 0.003392740380950272 116/500\n",
      "max_psnr: 25.83650407791138, epoch: 68\n",
      "Model saved at: result/2024-12-12 17:12:48.697095_pre_reinforce_8_0.002/2024-12-12 17:12:48.697095_pre_reinforce_8_0.002\n"
     ]
    },
    {
     "name": "stderr",
     "output_type": "stream",
     "text": [
      "100%|██████████| 800/800 [00:53<00:00, 14.96it/s]\n"
     ]
    },
    {
     "name": "stdout",
     "output_type": "stream",
     "text": [
      "mean PSNR : 25.05194055557251 117/500\n",
      "mean MSE : 0.003354734251042828 117/500\n",
      "max_psnr: 25.83650407791138, epoch: 68\n",
      "Model saved at: result/2024-12-12 17:12:48.697095_pre_reinforce_8_0.002/2024-12-12 17:12:48.697095_pre_reinforce_8_0.002\n"
     ]
    },
    {
     "name": "stderr",
     "output_type": "stream",
     "text": [
      "100%|██████████| 800/800 [00:53<00:00, 14.95it/s]\n"
     ]
    },
    {
     "name": "stdout",
     "output_type": "stream",
     "text": [
      "mean PSNR : 25.37637948989868 118/500\n",
      "mean MSE : 0.003151432384038344 118/500\n",
      "max_psnr: 25.83650407791138, epoch: 68\n",
      "Model saved at: result/2024-12-12 17:12:48.697095_pre_reinforce_8_0.002/2024-12-12 17:12:48.697095_pre_reinforce_8_0.002\n"
     ]
    },
    {
     "name": "stderr",
     "output_type": "stream",
     "text": [
      "100%|██████████| 800/800 [00:53<00:00, 14.95it/s]\n"
     ]
    },
    {
     "name": "stdout",
     "output_type": "stream",
     "text": [
      "mean PSNR : 24.093040580749513 119/500\n",
      "mean MSE : 0.004112269476754591 119/500\n",
      "max_psnr: 25.83650407791138, epoch: 68\n",
      "Model saved at: result/2024-12-12 17:12:48.697095_pre_reinforce_8_0.002/2024-12-12 17:12:48.697095_pre_reinforce_8_0.002\n"
     ]
    },
    {
     "name": "stderr",
     "output_type": "stream",
     "text": [
      "100%|██████████| 800/800 [00:53<00:00, 14.94it/s]\n"
     ]
    },
    {
     "name": "stdout",
     "output_type": "stream",
     "text": [
      "mean PSNR : 25.19155755996704 120/500\n",
      "mean MSE : 0.0032476511993445455 120/500\n",
      "max_psnr: 25.83650407791138, epoch: 68\n",
      "Model saved at: result/2024-12-12 17:12:48.697095_pre_reinforce_8_0.002/2024-12-12 17:12:48.697095_pre_reinforce_8_0.002\n"
     ]
    },
    {
     "name": "stderr",
     "output_type": "stream",
     "text": [
      "100%|██████████| 800/800 [00:53<00:00, 14.96it/s]\n"
     ]
    },
    {
     "name": "stdout",
     "output_type": "stream",
     "text": [
      "mean PSNR : 24.854823684692384 121/500\n",
      "mean MSE : 0.0034509692282881587 121/500\n",
      "max_psnr: 25.83650407791138, epoch: 68\n",
      "Model saved at: result/2024-12-12 17:12:48.697095_pre_reinforce_8_0.002/2024-12-12 17:12:48.697095_pre_reinforce_8_0.002\n"
     ]
    },
    {
     "name": "stderr",
     "output_type": "stream",
     "text": [
      "100%|██████████| 800/800 [00:53<00:00, 14.93it/s]\n"
     ]
    },
    {
     "name": "stdout",
     "output_type": "stream",
     "text": [
      "mean PSNR : 25.254732532501222 122/500\n",
      "mean MSE : 0.0032099626923445613 122/500\n",
      "max_psnr: 25.83650407791138, epoch: 68\n",
      "Model saved at: result/2024-12-12 17:12:48.697095_pre_reinforce_8_0.002/2024-12-12 17:12:48.697095_pre_reinforce_8_0.002\n"
     ]
    },
    {
     "name": "stderr",
     "output_type": "stream",
     "text": [
      "100%|██████████| 800/800 [00:53<00:00, 14.89it/s]\n"
     ]
    },
    {
     "name": "stdout",
     "output_type": "stream",
     "text": [
      "mean PSNR : 25.156085681915282 123/500\n",
      "mean MSE : 0.0033313517307396977 123/500\n",
      "max_psnr: 25.83650407791138, epoch: 68\n",
      "Model saved at: result/2024-12-12 17:12:48.697095_pre_reinforce_8_0.002/2024-12-12 17:12:48.697095_pre_reinforce_8_0.002\n"
     ]
    },
    {
     "name": "stderr",
     "output_type": "stream",
     "text": [
      "100%|██████████| 800/800 [00:53<00:00, 14.93it/s]\n"
     ]
    },
    {
     "name": "stdout",
     "output_type": "stream",
     "text": [
      "mean PSNR : 25.31719186782837 124/500\n",
      "mean MSE : 0.0032048349687829616 124/500\n",
      "max_psnr: 25.83650407791138, epoch: 68\n",
      "Model saved at: result/2024-12-12 17:12:48.697095_pre_reinforce_8_0.002/2024-12-12 17:12:48.697095_pre_reinforce_8_0.002\n"
     ]
    },
    {
     "name": "stderr",
     "output_type": "stream",
     "text": [
      "100%|██████████| 800/800 [00:53<00:00, 14.94it/s]\n"
     ]
    },
    {
     "name": "stdout",
     "output_type": "stream",
     "text": [
      "mean PSNR : 24.58794143676758 125/500\n",
      "mean MSE : 0.003669843786628917 125/500\n",
      "max_psnr: 25.83650407791138, epoch: 68\n",
      "Model saved at: result/2024-12-12 17:12:48.697095_pre_reinforce_8_0.002/2024-12-12 17:12:48.697095_pre_reinforce_8_0.002\n"
     ]
    },
    {
     "name": "stderr",
     "output_type": "stream",
     "text": [
      "100%|██████████| 800/800 [00:53<00:00, 14.93it/s]\n"
     ]
    },
    {
     "name": "stdout",
     "output_type": "stream",
     "text": [
      "mean PSNR : 24.8180082321167 126/500\n",
      "mean MSE : 0.0034788731939624997 126/500\n",
      "max_psnr: 25.83650407791138, epoch: 68\n",
      "Model saved at: result/2024-12-12 17:12:48.697095_pre_reinforce_8_0.002/2024-12-12 17:12:48.697095_pre_reinforce_8_0.002\n"
     ]
    },
    {
     "name": "stderr",
     "output_type": "stream",
     "text": [
      "100%|██████████| 800/800 [00:53<00:00, 14.94it/s]\n"
     ]
    },
    {
     "name": "stdout",
     "output_type": "stream",
     "text": [
      "mean PSNR : 25.400397777557373 127/500\n",
      "mean MSE : 0.003123279593419284 127/500\n",
      "max_psnr: 25.83650407791138, epoch: 68\n",
      "Model saved at: result/2024-12-12 17:12:48.697095_pre_reinforce_8_0.002/2024-12-12 17:12:48.697095_pre_reinforce_8_0.002\n"
     ]
    },
    {
     "name": "stderr",
     "output_type": "stream",
     "text": [
      "100%|██████████| 800/800 [00:53<00:00, 14.96it/s]\n"
     ]
    },
    {
     "name": "stdout",
     "output_type": "stream",
     "text": [
      "mean PSNR : 24.960079040527344 128/500\n",
      "mean MSE : 0.0034062489692587407 128/500\n",
      "max_psnr: 25.83650407791138, epoch: 68\n",
      "Model saved at: result/2024-12-12 17:12:48.697095_pre_reinforce_8_0.002/2024-12-12 17:12:48.697095_pre_reinforce_8_0.002\n"
     ]
    },
    {
     "name": "stderr",
     "output_type": "stream",
     "text": [
      "100%|██████████| 800/800 [00:53<00:00, 14.91it/s]\n"
     ]
    },
    {
     "name": "stdout",
     "output_type": "stream",
     "text": [
      "mean PSNR : 24.821347732543945 129/500\n",
      "mean MSE : 0.003610315365949646 129/500\n",
      "max_psnr: 25.83650407791138, epoch: 68\n",
      "Model saved at: result/2024-12-12 17:12:48.697095_pre_reinforce_8_0.002/2024-12-12 17:12:48.697095_pre_reinforce_8_0.002\n"
     ]
    },
    {
     "name": "stderr",
     "output_type": "stream",
     "text": [
      "100%|██████████| 800/800 [00:53<00:00, 14.93it/s]\n"
     ]
    },
    {
     "name": "stdout",
     "output_type": "stream",
     "text": [
      "mean PSNR : 20.110278806686402 130/500\n",
      "mean MSE : 0.010679748782422394 130/500\n",
      "max_psnr: 25.83650407791138, epoch: 68\n",
      "Model saved at: result/2024-12-12 17:12:48.697095_pre_reinforce_8_0.002/2024-12-12 17:12:48.697095_pre_reinforce_8_0.002\n"
     ]
    },
    {
     "name": "stderr",
     "output_type": "stream",
     "text": [
      "100%|██████████| 800/800 [00:53<00:00, 14.97it/s]\n"
     ]
    },
    {
     "name": "stdout",
     "output_type": "stream",
     "text": [
      "mean PSNR : 22.781205425262453 131/500\n",
      "mean MSE : 0.005474795566406101 131/500\n",
      "max_psnr: 25.83650407791138, epoch: 68\n",
      "Model saved at: result/2024-12-12 17:12:48.697095_pre_reinforce_8_0.002/2024-12-12 17:12:48.697095_pre_reinforce_8_0.002\n"
     ]
    },
    {
     "name": "stderr",
     "output_type": "stream",
     "text": [
      "100%|██████████| 800/800 [00:53<00:00, 14.95it/s]\n"
     ]
    },
    {
     "name": "stdout",
     "output_type": "stream",
     "text": [
      "mean PSNR : 24.864282398223878 132/500\n",
      "mean MSE : 0.0034987781033851205 132/500\n",
      "max_psnr: 25.83650407791138, epoch: 68\n",
      "Model saved at: result/2024-12-12 17:12:48.697095_pre_reinforce_8_0.002/2024-12-12 17:12:48.697095_pre_reinforce_8_0.002\n"
     ]
    },
    {
     "name": "stderr",
     "output_type": "stream",
     "text": [
      "100%|██████████| 800/800 [00:53<00:00, 14.99it/s]\n"
     ]
    },
    {
     "name": "stdout",
     "output_type": "stream",
     "text": [
      "mean PSNR : 24.67673807144165 133/500\n",
      "mean MSE : 0.0036089298449223863 133/500\n",
      "max_psnr: 25.83650407791138, epoch: 68\n",
      "Model saved at: result/2024-12-12 17:12:48.697095_pre_reinforce_8_0.002/2024-12-12 17:12:48.697095_pre_reinforce_8_0.002\n"
     ]
    },
    {
     "name": "stderr",
     "output_type": "stream",
     "text": [
      "100%|██████████| 800/800 [00:53<00:00, 14.96it/s]\n"
     ]
    },
    {
     "name": "stdout",
     "output_type": "stream",
     "text": [
      "mean PSNR : 25.210799827575684 134/500\n",
      "mean MSE : 0.003267357109580189 134/500\n",
      "max_psnr: 25.83650407791138, epoch: 68\n",
      "Model saved at: result/2024-12-12 17:12:48.697095_pre_reinforce_8_0.002/2024-12-12 17:12:48.697095_pre_reinforce_8_0.002\n"
     ]
    },
    {
     "name": "stderr",
     "output_type": "stream",
     "text": [
      "100%|██████████| 800/800 [00:53<00:00, 14.97it/s]\n"
     ]
    },
    {
     "name": "stdout",
     "output_type": "stream",
     "text": [
      "mean PSNR : 24.40278377532959 135/500\n",
      "mean MSE : 0.003919171171728522 135/500\n",
      "max_psnr: 25.83650407791138, epoch: 68\n",
      "Model saved at: result/2024-12-12 17:12:48.697095_pre_reinforce_8_0.002/2024-12-12 17:12:48.697095_pre_reinforce_8_0.002\n"
     ]
    },
    {
     "name": "stderr",
     "output_type": "stream",
     "text": [
      "100%|██████████| 800/800 [00:53<00:00, 14.95it/s]\n"
     ]
    },
    {
     "name": "stdout",
     "output_type": "stream",
     "text": [
      "mean PSNR : 24.236486473083495 136/500\n",
      "mean MSE : 0.004035697581712156 136/500\n",
      "max_psnr: 25.83650407791138, epoch: 68\n",
      "Model saved at: result/2024-12-12 17:12:48.697095_pre_reinforce_8_0.002/2024-12-12 17:12:48.697095_pre_reinforce_8_0.002\n"
     ]
    },
    {
     "name": "stderr",
     "output_type": "stream",
     "text": [
      "100%|██████████| 800/800 [00:53<00:00, 14.94it/s]\n"
     ]
    },
    {
     "name": "stdout",
     "output_type": "stream",
     "text": [
      "mean PSNR : 24.143772315979003 137/500\n",
      "mean MSE : 0.004119324494386092 137/500\n",
      "max_psnr: 25.83650407791138, epoch: 68\n",
      "Model saved at: result/2024-12-12 17:12:48.697095_pre_reinforce_8_0.002/2024-12-12 17:12:48.697095_pre_reinforce_8_0.002\n"
     ]
    },
    {
     "name": "stderr",
     "output_type": "stream",
     "text": [
      "100%|██████████| 800/800 [00:53<00:00, 14.97it/s]\n"
     ]
    },
    {
     "name": "stdout",
     "output_type": "stream",
     "text": [
      "mean PSNR : 23.970263118743897 138/500\n",
      "mean MSE : 0.004268818770069629 138/500\n",
      "max_psnr: 25.83650407791138, epoch: 68\n",
      "Model saved at: result/2024-12-12 17:12:48.697095_pre_reinforce_8_0.002/2024-12-12 17:12:48.697095_pre_reinforce_8_0.002\n"
     ]
    },
    {
     "name": "stderr",
     "output_type": "stream",
     "text": [
      "100%|██████████| 800/800 [00:53<00:00, 14.82it/s]\n"
     ]
    },
    {
     "name": "stdout",
     "output_type": "stream",
     "text": [
      "mean PSNR : 25.16465229034424 139/500\n",
      "mean MSE : 0.003388955192640424 139/500\n",
      "max_psnr: 25.83650407791138, epoch: 68\n",
      "Model saved at: result/2024-12-12 17:12:48.697095_pre_reinforce_8_0.002/2024-12-12 17:12:48.697095_pre_reinforce_8_0.002\n"
     ]
    },
    {
     "name": "stderr",
     "output_type": "stream",
     "text": [
      "100%|██████████| 800/800 [00:53<00:00, 14.96it/s]\n"
     ]
    },
    {
     "name": "stdout",
     "output_type": "stream",
     "text": [
      "mean PSNR : 25.06699089050293 140/500\n",
      "mean MSE : 0.0033971055631991476 140/500\n",
      "max_psnr: 25.83650407791138, epoch: 68\n",
      "Model saved at: result/2024-12-12 17:12:48.697095_pre_reinforce_8_0.002/2024-12-12 17:12:48.697095_pre_reinforce_8_0.002\n"
     ]
    },
    {
     "name": "stderr",
     "output_type": "stream",
     "text": [
      "100%|██████████| 800/800 [00:53<00:00, 14.88it/s]\n"
     ]
    },
    {
     "name": "stdout",
     "output_type": "stream",
     "text": [
      "mean PSNR : 24.686084232330323 141/500\n",
      "mean MSE : 0.0036322238459251823 141/500\n",
      "max_psnr: 25.83650407791138, epoch: 68\n",
      "Model saved at: result/2024-12-12 17:12:48.697095_pre_reinforce_8_0.002/2024-12-12 17:12:48.697095_pre_reinforce_8_0.002\n"
     ]
    },
    {
     "name": "stderr",
     "output_type": "stream",
     "text": [
      "100%|██████████| 800/800 [00:53<00:00, 14.96it/s]\n"
     ]
    },
    {
     "name": "stdout",
     "output_type": "stream",
     "text": [
      "mean PSNR : 24.439687156677245 142/500\n",
      "mean MSE : 0.003823642106726766 142/500\n",
      "max_psnr: 25.83650407791138, epoch: 68\n",
      "Model saved at: result/2024-12-12 17:12:48.697095_pre_reinforce_8_0.002/2024-12-12 17:12:48.697095_pre_reinforce_8_0.002\n"
     ]
    },
    {
     "name": "stderr",
     "output_type": "stream",
     "text": [
      "100%|██████████| 800/800 [00:53<00:00, 14.95it/s]\n"
     ]
    },
    {
     "name": "stdout",
     "output_type": "stream",
     "text": [
      "mean PSNR : 25.123363819122314 143/500\n",
      "mean MSE : 0.0033741472219116987 143/500\n",
      "max_psnr: 25.83650407791138, epoch: 68\n",
      "Model saved at: result/2024-12-12 17:12:48.697095_pre_reinforce_8_0.002/2024-12-12 17:12:48.697095_pre_reinforce_8_0.002\n"
     ]
    },
    {
     "name": "stderr",
     "output_type": "stream",
     "text": [
      "100%|██████████| 800/800 [00:53<00:00, 14.98it/s]\n"
     ]
    },
    {
     "name": "stdout",
     "output_type": "stream",
     "text": [
      "mean PSNR : 25.12785541534424 144/500\n",
      "mean MSE : 0.003365832141134888 144/500\n",
      "max_psnr: 25.83650407791138, epoch: 68\n",
      "Model saved at: result/2024-12-12 17:12:48.697095_pre_reinforce_8_0.002/2024-12-12 17:12:48.697095_pre_reinforce_8_0.002\n"
     ]
    },
    {
     "name": "stderr",
     "output_type": "stream",
     "text": [
      "100%|██████████| 800/800 [00:53<00:00, 15.00it/s]\n"
     ]
    },
    {
     "name": "stdout",
     "output_type": "stream",
     "text": [
      "mean PSNR : 24.737143249511718 145/500\n",
      "mean MSE : 0.003634274109499529 145/500\n",
      "max_psnr: 25.83650407791138, epoch: 68\n",
      "Model saved at: result/2024-12-12 17:12:48.697095_pre_reinforce_8_0.002/2024-12-12 17:12:48.697095_pre_reinforce_8_0.002\n"
     ]
    },
    {
     "name": "stderr",
     "output_type": "stream",
     "text": [
      "100%|██████████| 800/800 [00:53<00:00, 14.98it/s]\n"
     ]
    },
    {
     "name": "stdout",
     "output_type": "stream",
     "text": [
      "mean PSNR : 24.802282600402833 146/500\n",
      "mean MSE : 0.003554442349122837 146/500\n",
      "max_psnr: 25.83650407791138, epoch: 68\n",
      "Model saved at: result/2024-12-12 17:12:48.697095_pre_reinforce_8_0.002/2024-12-12 17:12:48.697095_pre_reinforce_8_0.002\n"
     ]
    },
    {
     "name": "stderr",
     "output_type": "stream",
     "text": [
      "100%|██████████| 800/800 [00:53<00:00, 14.98it/s]\n"
     ]
    },
    {
     "name": "stdout",
     "output_type": "stream",
     "text": [
      "mean PSNR : 25.002894344329835 147/500\n",
      "mean MSE : 0.0034440702898427844 147/500\n",
      "max_psnr: 25.83650407791138, epoch: 68\n",
      "Model saved at: result/2024-12-12 17:12:48.697095_pre_reinforce_8_0.002/2024-12-12 17:12:48.697095_pre_reinforce_8_0.002\n"
     ]
    },
    {
     "name": "stderr",
     "output_type": "stream",
     "text": [
      "100%|██████████| 800/800 [00:53<00:00, 14.97it/s]\n"
     ]
    },
    {
     "name": "stdout",
     "output_type": "stream",
     "text": [
      "mean PSNR : 25.323158187866213 148/500\n",
      "mean MSE : 0.0032288950809743256 148/500\n",
      "max_psnr: 25.83650407791138, epoch: 68\n",
      "Model saved at: result/2024-12-12 17:12:48.697095_pre_reinforce_8_0.002/2024-12-12 17:12:48.697095_pre_reinforce_8_0.002\n"
     ]
    },
    {
     "name": "stderr",
     "output_type": "stream",
     "text": [
      "100%|██████████| 800/800 [00:53<00:00, 14.90it/s]\n"
     ]
    },
    {
     "name": "stdout",
     "output_type": "stream",
     "text": [
      "mean PSNR : 25.358228282928465 149/500\n",
      "mean MSE : 0.0031779609713703393 149/500\n",
      "max_psnr: 25.83650407791138, epoch: 68\n",
      "Model saved at: result/2024-12-12 17:12:48.697095_pre_reinforce_8_0.002/2024-12-12 17:12:48.697095_pre_reinforce_8_0.002\n"
     ]
    },
    {
     "name": "stderr",
     "output_type": "stream",
     "text": [
      "100%|██████████| 800/800 [00:53<00:00, 14.89it/s]\n"
     ]
    },
    {
     "name": "stdout",
     "output_type": "stream",
     "text": [
      "mean PSNR : 25.1366676902771 150/500\n",
      "mean MSE : 0.0032829415146261452 150/500\n",
      "max_psnr: 25.83650407791138, epoch: 68\n",
      "Model saved at: result/2024-12-12 17:12:48.697095_pre_reinforce_8_0.002/2024-12-12 17:12:48.697095_pre_reinforce_8_0.002\n"
     ]
    },
    {
     "name": "stderr",
     "output_type": "stream",
     "text": [
      "100%|██████████| 800/800 [00:53<00:00, 14.97it/s]\n"
     ]
    },
    {
     "name": "stdout",
     "output_type": "stream",
     "text": [
      "mean PSNR : 25.358336162567138 151/500\n",
      "mean MSE : 0.0031716083292849364 151/500\n",
      "max_psnr: 25.83650407791138, epoch: 68\n",
      "Model saved at: result/2024-12-12 17:12:48.697095_pre_reinforce_8_0.002/2024-12-12 17:12:48.697095_pre_reinforce_8_0.002\n"
     ]
    },
    {
     "name": "stderr",
     "output_type": "stream",
     "text": [
      "100%|██████████| 800/800 [00:53<00:00, 14.99it/s]\n"
     ]
    },
    {
     "name": "stdout",
     "output_type": "stream",
     "text": [
      "mean PSNR : 24.921023044586182 152/500\n",
      "mean MSE : 0.003439852768788114 152/500\n",
      "max_psnr: 25.83650407791138, epoch: 68\n",
      "Model saved at: result/2024-12-12 17:12:48.697095_pre_reinforce_8_0.002/2024-12-12 17:12:48.697095_pre_reinforce_8_0.002\n"
     ]
    },
    {
     "name": "stderr",
     "output_type": "stream",
     "text": [
      "100%|██████████| 800/800 [00:53<00:00, 14.99it/s]\n"
     ]
    },
    {
     "name": "stdout",
     "output_type": "stream",
     "text": [
      "mean PSNR : 24.75617691040039 153/500\n",
      "mean MSE : 0.003557960846228525 153/500\n",
      "max_psnr: 25.83650407791138, epoch: 68\n",
      "Model saved at: result/2024-12-12 17:12:48.697095_pre_reinforce_8_0.002/2024-12-12 17:12:48.697095_pre_reinforce_8_0.002\n"
     ]
    },
    {
     "name": "stderr",
     "output_type": "stream",
     "text": [
      "100%|██████████| 800/800 [00:53<00:00, 14.99it/s]\n"
     ]
    },
    {
     "name": "stdout",
     "output_type": "stream",
     "text": [
      "mean PSNR : 25.32322296142578 154/500\n",
      "mean MSE : 0.0031970251782331618 154/500\n",
      "max_psnr: 25.83650407791138, epoch: 68\n",
      "Model saved at: result/2024-12-12 17:12:48.697095_pre_reinforce_8_0.002/2024-12-12 17:12:48.697095_pre_reinforce_8_0.002\n"
     ]
    },
    {
     "name": "stderr",
     "output_type": "stream",
     "text": [
      "100%|██████████| 800/800 [00:53<00:00, 14.97it/s]\n"
     ]
    },
    {
     "name": "stdout",
     "output_type": "stream",
     "text": [
      "mean PSNR : 25.27320804595947 155/500\n",
      "mean MSE : 0.0032001778029371055 155/500\n",
      "max_psnr: 25.83650407791138, epoch: 68\n",
      "Model saved at: result/2024-12-12 17:12:48.697095_pre_reinforce_8_0.002/2024-12-12 17:12:48.697095_pre_reinforce_8_0.002\n"
     ]
    },
    {
     "name": "stderr",
     "output_type": "stream",
     "text": [
      "100%|██████████| 800/800 [00:53<00:00, 14.91it/s]\n"
     ]
    },
    {
     "name": "stdout",
     "output_type": "stream",
     "text": [
      "mean PSNR : 25.171339912414552 156/500\n",
      "mean MSE : 0.0033276508725248277 156/500\n",
      "max_psnr: 25.83650407791138, epoch: 68\n",
      "Model saved at: result/2024-12-12 17:12:48.697095_pre_reinforce_8_0.002/2024-12-12 17:12:48.697095_pre_reinforce_8_0.002\n"
     ]
    },
    {
     "name": "stderr",
     "output_type": "stream",
     "text": [
      "100%|██████████| 800/800 [00:53<00:00, 14.90it/s]\n"
     ]
    },
    {
     "name": "stdout",
     "output_type": "stream",
     "text": [
      "mean PSNR : 25.451709480285643 157/500\n",
      "mean MSE : 0.003100753725739196 157/500\n",
      "max_psnr: 25.83650407791138, epoch: 68\n",
      "Model saved at: result/2024-12-12 17:12:48.697095_pre_reinforce_8_0.002/2024-12-12 17:12:48.697095_pre_reinforce_8_0.002\n"
     ]
    },
    {
     "name": "stderr",
     "output_type": "stream",
     "text": [
      "100%|██████████| 800/800 [00:53<00:00, 14.91it/s]\n"
     ]
    },
    {
     "name": "stdout",
     "output_type": "stream",
     "text": [
      "mean PSNR : 25.00136478424072 158/500\n",
      "mean MSE : 0.0033780676405876873 158/500\n",
      "max_psnr: 25.83650407791138, epoch: 68\n",
      "Model saved at: result/2024-12-12 17:12:48.697095_pre_reinforce_8_0.002/2024-12-12 17:12:48.697095_pre_reinforce_8_0.002\n"
     ]
    },
    {
     "name": "stderr",
     "output_type": "stream",
     "text": [
      "100%|██████████| 800/800 [00:53<00:00, 14.93it/s]\n"
     ]
    },
    {
     "name": "stdout",
     "output_type": "stream",
     "text": [
      "mean PSNR : 25.170076904296874 159/500\n",
      "mean MSE : 0.0033103644626680763 159/500\n",
      "max_psnr: 25.83650407791138, epoch: 68\n",
      "Model saved at: result/2024-12-12 17:12:48.697095_pre_reinforce_8_0.002/2024-12-12 17:12:48.697095_pre_reinforce_8_0.002\n"
     ]
    },
    {
     "name": "stderr",
     "output_type": "stream",
     "text": [
      "100%|██████████| 800/800 [00:53<00:00, 14.95it/s]\n"
     ]
    },
    {
     "name": "stdout",
     "output_type": "stream",
     "text": [
      "mean PSNR : 25.510104064941405 160/500\n",
      "mean MSE : 0.003090205459157005 160/500\n",
      "max_psnr: 25.83650407791138, epoch: 68\n",
      "Model saved at: result/2024-12-12 17:12:48.697095_pre_reinforce_8_0.002/2024-12-12 17:12:48.697095_pre_reinforce_8_0.002\n"
     ]
    },
    {
     "name": "stderr",
     "output_type": "stream",
     "text": [
      "100%|██████████| 800/800 [00:53<00:00, 14.97it/s]\n"
     ]
    },
    {
     "name": "stdout",
     "output_type": "stream",
     "text": [
      "mean PSNR : 25.084309940338134 161/500\n",
      "mean MSE : 0.0033004950114991515 161/500\n",
      "max_psnr: 25.83650407791138, epoch: 68\n",
      "Model saved at: result/2024-12-12 17:12:48.697095_pre_reinforce_8_0.002/2024-12-12 17:12:48.697095_pre_reinforce_8_0.002\n"
     ]
    },
    {
     "name": "stderr",
     "output_type": "stream",
     "text": [
      "100%|██████████| 800/800 [00:53<00:00, 14.96it/s]\n"
     ]
    },
    {
     "name": "stdout",
     "output_type": "stream",
     "text": [
      "mean PSNR : 25.281513900756835 162/500\n",
      "mean MSE : 0.0031969721033237876 162/500\n",
      "max_psnr: 25.83650407791138, epoch: 68\n",
      "Model saved at: result/2024-12-12 17:12:48.697095_pre_reinforce_8_0.002/2024-12-12 17:12:48.697095_pre_reinforce_8_0.002\n"
     ]
    },
    {
     "name": "stderr",
     "output_type": "stream",
     "text": [
      "100%|██████████| 800/800 [00:53<00:00, 14.91it/s]\n"
     ]
    },
    {
     "name": "stdout",
     "output_type": "stream",
     "text": [
      "mean PSNR : 25.432672691345214 163/500\n",
      "mean MSE : 0.003101135992910713 163/500\n",
      "max_psnr: 25.83650407791138, epoch: 68\n",
      "Model saved at: result/2024-12-12 17:12:48.697095_pre_reinforce_8_0.002/2024-12-12 17:12:48.697095_pre_reinforce_8_0.002\n"
     ]
    },
    {
     "name": "stderr",
     "output_type": "stream",
     "text": [
      "100%|██████████| 800/800 [00:53<00:00, 14.92it/s]\n"
     ]
    },
    {
     "name": "stdout",
     "output_type": "stream",
     "text": [
      "mean PSNR : 25.396686515808106 164/500\n",
      "mean MSE : 0.003133061206317507 164/500\n",
      "max_psnr: 25.83650407791138, epoch: 68\n",
      "Model saved at: result/2024-12-12 17:12:48.697095_pre_reinforce_8_0.002/2024-12-12 17:12:48.697095_pre_reinforce_8_0.002\n"
     ]
    },
    {
     "name": "stderr",
     "output_type": "stream",
     "text": [
      "100%|██████████| 800/800 [00:53<00:00, 15.00it/s]\n"
     ]
    },
    {
     "name": "stdout",
     "output_type": "stream",
     "text": [
      "mean PSNR : 25.415657691955566 165/500\n",
      "mean MSE : 0.0030993868253426627 165/500\n",
      "max_psnr: 25.83650407791138, epoch: 68\n",
      "Model saved at: result/2024-12-12 17:12:48.697095_pre_reinforce_8_0.002/2024-12-12 17:12:48.697095_pre_reinforce_8_0.002\n"
     ]
    },
    {
     "name": "stderr",
     "output_type": "stream",
     "text": [
      "100%|██████████| 800/800 [00:53<00:00, 14.99it/s]\n"
     ]
    },
    {
     "name": "stdout",
     "output_type": "stream",
     "text": [
      "mean PSNR : 25.60994647979736 166/500\n",
      "mean MSE : 0.002980071163037792 166/500\n",
      "max_psnr: 25.83650407791138, epoch: 68\n",
      "Model saved at: result/2024-12-12 17:12:48.697095_pre_reinforce_8_0.002/2024-12-12 17:12:48.697095_pre_reinforce_8_0.002\n"
     ]
    },
    {
     "name": "stderr",
     "output_type": "stream",
     "text": [
      "100%|██████████| 800/800 [00:53<00:00, 14.98it/s]\n"
     ]
    },
    {
     "name": "stdout",
     "output_type": "stream",
     "text": [
      "mean PSNR : 25.158938179016115 167/500\n",
      "mean MSE : 0.0033042364206630737 167/500\n",
      "max_psnr: 25.83650407791138, epoch: 68\n",
      "Model saved at: result/2024-12-12 17:12:48.697095_pre_reinforce_8_0.002/2024-12-12 17:12:48.697095_pre_reinforce_8_0.002\n"
     ]
    },
    {
     "name": "stderr",
     "output_type": "stream",
     "text": [
      "100%|██████████| 800/800 [00:53<00:00, 14.97it/s]\n"
     ]
    },
    {
     "name": "stdout",
     "output_type": "stream",
     "text": [
      "mean PSNR : 25.494061374664305 168/500\n",
      "mean MSE : 0.003099635348189622 168/500\n",
      "max_psnr: 25.83650407791138, epoch: 68\n",
      "Model saved at: result/2024-12-12 17:12:48.697095_pre_reinforce_8_0.002/2024-12-12 17:12:48.697095_pre_reinforce_8_0.002\n"
     ]
    },
    {
     "name": "stderr",
     "output_type": "stream",
     "text": [
      "100%|██████████| 800/800 [00:53<00:00, 14.96it/s]\n"
     ]
    },
    {
     "name": "stdout",
     "output_type": "stream",
     "text": [
      "mean PSNR : 25.275293617248536 169/500\n",
      "mean MSE : 0.0032229177025146784 169/500\n",
      "max_psnr: 25.83650407791138, epoch: 68\n",
      "Model saved at: result/2024-12-12 17:12:48.697095_pre_reinforce_8_0.002/2024-12-12 17:12:48.697095_pre_reinforce_8_0.002\n"
     ]
    },
    {
     "name": "stderr",
     "output_type": "stream",
     "text": [
      "100%|██████████| 800/800 [00:53<00:00, 14.97it/s]\n"
     ]
    },
    {
     "name": "stdout",
     "output_type": "stream",
     "text": [
      "mean PSNR : 25.185358963012696 170/500\n",
      "mean MSE : 0.0032820781390182673 170/500\n",
      "max_psnr: 25.83650407791138, epoch: 68\n",
      "Model saved at: result/2024-12-12 17:12:48.697095_pre_reinforce_8_0.002/2024-12-12 17:12:48.697095_pre_reinforce_8_0.002\n"
     ]
    },
    {
     "name": "stderr",
     "output_type": "stream",
     "text": [
      "100%|██████████| 800/800 [00:53<00:00, 14.97it/s]\n"
     ]
    },
    {
     "name": "stdout",
     "output_type": "stream",
     "text": [
      "mean PSNR : 25.56148603439331 171/500\n",
      "mean MSE : 0.003015607389388606 171/500\n",
      "max_psnr: 25.83650407791138, epoch: 68\n",
      "Model saved at: result/2024-12-12 17:12:48.697095_pre_reinforce_8_0.002/2024-12-12 17:12:48.697095_pre_reinforce_8_0.002\n"
     ]
    },
    {
     "name": "stderr",
     "output_type": "stream",
     "text": [
      "100%|██████████| 800/800 [00:53<00:00, 14.96it/s]\n"
     ]
    },
    {
     "name": "stdout",
     "output_type": "stream",
     "text": [
      "mean PSNR : 25.24755084991455 172/500\n",
      "mean MSE : 0.0032515559589955958 172/500\n",
      "max_psnr: 25.83650407791138, epoch: 68\n",
      "Model saved at: result/2024-12-12 17:12:48.697095_pre_reinforce_8_0.002/2024-12-12 17:12:48.697095_pre_reinforce_8_0.002\n"
     ]
    },
    {
     "name": "stderr",
     "output_type": "stream",
     "text": [
      "100%|██████████| 800/800 [00:53<00:00, 14.97it/s]\n"
     ]
    },
    {
     "name": "stdout",
     "output_type": "stream",
     "text": [
      "mean PSNR : 25.210118160247802 173/500\n",
      "mean MSE : 0.003214677380165085 173/500\n",
      "max_psnr: 25.83650407791138, epoch: 68\n",
      "Model saved at: result/2024-12-12 17:12:48.697095_pre_reinforce_8_0.002/2024-12-12 17:12:48.697095_pre_reinforce_8_0.002\n"
     ]
    },
    {
     "name": "stderr",
     "output_type": "stream",
     "text": [
      "100%|██████████| 800/800 [00:53<00:00, 14.97it/s]\n"
     ]
    },
    {
     "name": "stdout",
     "output_type": "stream",
     "text": [
      "mean PSNR : 25.595103874206544 174/500\n",
      "mean MSE : 0.003015784912277013 174/500\n",
      "max_psnr: 25.83650407791138, epoch: 68\n",
      "Model saved at: result/2024-12-12 17:12:48.697095_pre_reinforce_8_0.002/2024-12-12 17:12:48.697095_pre_reinforce_8_0.002\n"
     ]
    },
    {
     "name": "stderr",
     "output_type": "stream",
     "text": [
      "100%|██████████| 800/800 [00:53<00:00, 14.94it/s]\n"
     ]
    },
    {
     "name": "stdout",
     "output_type": "stream",
     "text": [
      "mean PSNR : 25.793313903808595 175/500\n",
      "mean MSE : 0.0029137152939802038 175/500\n",
      "max_psnr: 25.83650407791138, epoch: 68\n",
      "Model saved at: result/2024-12-12 17:12:48.697095_pre_reinforce_8_0.002/2024-12-12 17:12:48.697095_pre_reinforce_8_0.002\n"
     ]
    },
    {
     "name": "stderr",
     "output_type": "stream",
     "text": [
      "100%|██████████| 800/800 [00:53<00:00, 14.93it/s]\n"
     ]
    },
    {
     "name": "stdout",
     "output_type": "stream",
     "text": [
      "mean PSNR : 25.622179374694824 176/500\n",
      "mean MSE : 0.002993072756798938 176/500\n",
      "max_psnr: 25.83650407791138, epoch: 68\n",
      "Model saved at: result/2024-12-12 17:12:48.697095_pre_reinforce_8_0.002/2024-12-12 17:12:48.697095_pre_reinforce_8_0.002\n"
     ]
    },
    {
     "name": "stderr",
     "output_type": "stream",
     "text": [
      "100%|██████████| 800/800 [00:53<00:00, 14.95it/s]\n"
     ]
    },
    {
     "name": "stdout",
     "output_type": "stream",
     "text": [
      "mean PSNR : 12.968310766220092 177/500\n",
      "mean MSE : 0.053207371048629284 177/500\n",
      "max_psnr: 25.83650407791138, epoch: 68\n",
      "Model saved at: result/2024-12-12 17:12:48.697095_pre_reinforce_8_0.002/2024-12-12 17:12:48.697095_pre_reinforce_8_0.002\n"
     ]
    },
    {
     "name": "stderr",
     "output_type": "stream",
     "text": [
      "100%|██████████| 800/800 [00:53<00:00, 14.91it/s]\n"
     ]
    },
    {
     "name": "stdout",
     "output_type": "stream",
     "text": [
      "mean PSNR : 12.968310766220092 178/500\n",
      "mean MSE : 0.053207371048629284 178/500\n",
      "max_psnr: 25.83650407791138, epoch: 68\n",
      "Model saved at: result/2024-12-12 17:12:48.697095_pre_reinforce_8_0.002/2024-12-12 17:12:48.697095_pre_reinforce_8_0.002\n"
     ]
    },
    {
     "name": "stderr",
     "output_type": "stream",
     "text": [
      "100%|██████████| 800/800 [00:53<00:00, 14.94it/s]\n"
     ]
    },
    {
     "name": "stdout",
     "output_type": "stream",
     "text": [
      "mean PSNR : 12.968310766220092 179/500\n",
      "mean MSE : 0.053207371048629284 179/500\n",
      "max_psnr: 25.83650407791138, epoch: 68\n",
      "Model saved at: result/2024-12-12 17:12:48.697095_pre_reinforce_8_0.002/2024-12-12 17:12:48.697095_pre_reinforce_8_0.002\n"
     ]
    },
    {
     "name": "stderr",
     "output_type": "stream",
     "text": [
      "100%|██████████| 800/800 [00:53<00:00, 14.97it/s]\n"
     ]
    },
    {
     "name": "stdout",
     "output_type": "stream",
     "text": [
      "mean PSNR : 11.316968421936036 180/500\n",
      "mean MSE : 0.07687519416213036 180/500\n",
      "max_psnr: 25.83650407791138, epoch: 68\n",
      "Model saved at: result/2024-12-12 17:12:48.697095_pre_reinforce_8_0.002/2024-12-12 17:12:48.697095_pre_reinforce_8_0.002\n"
     ]
    },
    {
     "name": "stderr",
     "output_type": "stream",
     "text": [
      "100%|██████████| 800/800 [00:53<00:00, 14.97it/s]\n"
     ]
    },
    {
     "name": "stdout",
     "output_type": "stream",
     "text": [
      "mean PSNR : 12.982070217132568 181/500\n",
      "mean MSE : 0.052786914575845 181/500\n",
      "max_psnr: 25.83650407791138, epoch: 68\n",
      "Model saved at: result/2024-12-12 17:12:48.697095_pre_reinforce_8_0.002/2024-12-12 17:12:48.697095_pre_reinforce_8_0.002\n"
     ]
    },
    {
     "name": "stderr",
     "output_type": "stream",
     "text": [
      "100%|██████████| 800/800 [00:53<00:00, 14.99it/s]\n"
     ]
    },
    {
     "name": "stdout",
     "output_type": "stream",
     "text": [
      "mean PSNR : 12.938253135681153 182/500\n",
      "mean MSE : 0.05343703282997012 182/500\n",
      "max_psnr: 25.83650407791138, epoch: 68\n",
      "Model saved at: result/2024-12-12 17:12:48.697095_pre_reinforce_8_0.002/2024-12-12 17:12:48.697095_pre_reinforce_8_0.002\n"
     ]
    },
    {
     "name": "stderr",
     "output_type": "stream",
     "text": [
      "100%|██████████| 800/800 [00:53<00:00, 14.97it/s]\n"
     ]
    },
    {
     "name": "stdout",
     "output_type": "stream",
     "text": [
      "mean PSNR : 9.755820608139038 183/500\n",
      "mean MSE : 0.10934087831526995 183/500\n",
      "max_psnr: 25.83650407791138, epoch: 68\n",
      "Model saved at: result/2024-12-12 17:12:48.697095_pre_reinforce_8_0.002/2024-12-12 17:12:48.697095_pre_reinforce_8_0.002\n"
     ]
    },
    {
     "name": "stderr",
     "output_type": "stream",
     "text": [
      "100%|██████████| 800/800 [00:53<00:00, 14.99it/s]\n"
     ]
    },
    {
     "name": "stdout",
     "output_type": "stream",
     "text": [
      "mean PSNR : 13.002557458877563 184/500\n",
      "mean MSE : 0.05271723570302129 184/500\n",
      "max_psnr: 25.83650407791138, epoch: 68\n",
      "Model saved at: result/2024-12-12 17:12:48.697095_pre_reinforce_8_0.002/2024-12-12 17:12:48.697095_pre_reinforce_8_0.002\n"
     ]
    },
    {
     "name": "stderr",
     "output_type": "stream",
     "text": [
      "100%|██████████| 800/800 [00:53<00:00, 14.97it/s]\n"
     ]
    },
    {
     "name": "stdout",
     "output_type": "stream",
     "text": [
      "mean PSNR : 13.002557458877563 185/500\n",
      "mean MSE : 0.05271723570302129 185/500\n",
      "max_psnr: 25.83650407791138, epoch: 68\n",
      "Model saved at: result/2024-12-12 17:12:48.697095_pre_reinforce_8_0.002/2024-12-12 17:12:48.697095_pre_reinforce_8_0.002\n"
     ]
    },
    {
     "name": "stderr",
     "output_type": "stream",
     "text": [
      " 57%|█████▋    | 454/800 [00:30<00:23, 14.96it/s]\n",
      "\n",
      "KeyboardInterrupt\n",
      "\n"
     ]
    },
    {
     "data": {
      "text/plain": [
       "<Figure size 640x480 with 0 Axes>"
      ]
     },
     "metadata": {},
     "output_type": "display_data"
    }
   ],
   "source": [
    "rgb_binary_train_padding(model, num_hologram=8, custom_name='pre_reinforce', epochs=500, lr=1e-4, z=2e-3)"
   ]
  },
  {
   "cell_type": "code",
   "execution_count": null,
   "id": "3ed95b01-acaa-4898-82bb-05d549d2de85",
   "metadata": {},
   "outputs": [],
   "source": [
    "valid_dataset[0].shape"
   ]
  },
  {
   "cell_type": "code",
   "execution_count": null,
   "id": "e26a3c0d-cb1f-4516-ac08-56afa736ecb2",
   "metadata": {},
   "outputs": [],
   "source": [
    "sign = SignFunction.apply\n",
    "out = model(valid_dataset[0].unsqueeze(0).unsqueeze(0))\n",
    "binary = sign(out, 0.5)\n",
    "sim = tt.simulate(binary, 2e-3)\n",
    "mean_sim = torch.mean(sim, dim=1, keepdim=True)"
   ]
  },
  {
   "cell_type": "code",
   "execution_count": null,
   "id": "4a7e4818-79c2-459d-8a18-d17564f613f4",
   "metadata": {},
   "outputs": [],
   "source": [
    "for target in trainloader:\n",
    "    print(target.shape)\n",
    "    break"
   ]
  },
  {
   "cell_type": "code",
   "execution_count": null,
   "id": "ea4334c4-82e6-43c1-b516-e68cd3992175",
   "metadata": {},
   "outputs": [],
   "source": [
    "target"
   ]
  },
  {
   "cell_type": "code",
   "execution_count": null,
   "id": "84c5ec99-e9aa-43db-8cd8-51cb219fb07b",
   "metadata": {},
   "outputs": [],
   "source": [
    "mean_sim"
   ]
  },
  {
   "cell_type": "code",
   "execution_count": null,
   "id": "b907fbe1-9557-4bb4-a3c8-41410564205a",
   "metadata": {},
   "outputs": [],
   "source": [
    "import gymnasium as gym\n",
    "import numpy as np\n",
    "from gymnasium import spaces\n",
    "import torch\n",
    "import torch.nn.functional as F\n",
    "\n",
    "class BinaryHologramEnv(gym.Env):\n",
    "    def __init__(self, target_function, max_steps=1000000, T_PSNR=30, T_steps=100):\n",
    "        \"\"\"\n",
    "        target_function: 타겟 이미지와의 손실(MSE 또는 PSNR) 계산 함수.\n",
    "        max_steps: 최대 타임스텝 제한.\n",
    "        T_PSNR: 목표 PSNR 값.\n",
    "        T_steps: PSNR 목표를 유지해야 하는 최소 타임스텝.\n",
    "        \"\"\"\n",
    "        super(BinaryHologramEnv, self).__init__()\n",
    "\n",
    "        # Observation space: 연속형 데이터\n",
    "        self.observation_space = spaces.Box(\n",
    "            low=0,\n",
    "            high=1,\n",
    "            shape=(1, 8, 1024, 1024),  # 8채널 데이터\n",
    "            dtype=np.float32,\n",
    "        )\n",
    "\n",
    "        # Action space: MultiBinary 데이터\n",
    "        self.action_space = spaces.MultiBinary(1 * 8 * 1024 * 1024)\n",
    "\n",
    "        # 목표 함수\n",
    "        self.target_function = target_function\n",
    "\n",
    "        # 에피소드 설정\n",
    "        self.max_steps = max_steps\n",
    "        self.T_PSNR = T_PSNR\n",
    "        self.T_steps = T_steps\n",
    "\n",
    "        # 학습 상태\n",
    "        self.state = None  # MultiBinary 형식의 환경 상태\n",
    "        self.observation = None  # 에이전트가 관찰할 수 있는 정보\n",
    "        self.steps = 0\n",
    "        self.psnr_sustained_steps = 0  # PSNR 목표 유지 스텝 수\n",
    "\n",
    "    def reset(self, seed=None, options=None):\n",
    "        \"\"\"\n",
    "        환경 상태를 초기화.\n",
    "        \"\"\"\n",
    "        # 관찰값 초기화 (연속형 데이터)\n",
    "        self.observation = np.random.rand(1, 8, 1024, 1024).astype(np.float32)\n",
    "\n",
    "        # 상태 초기화 (관찰값을 0.5 기준으로 이진화)\n",
    "        self.state = (self.observation >= 0.5).astype(np.int8)\n",
    "\n",
    "        # 초기화된 타임스텝\n",
    "        self.steps = 0\n",
    "        self.psnr_sustained_steps = 0\n",
    "\n",
    "        return self.observation, {}\n",
    "\n",
    "    # def calculate_psnr(self, mse):\n",
    "        \"\"\"\n",
    "        MSE로부터 PSNR 계산.\n",
    "        \"\"\"\n",
    "        # if mse == 0:\n",
    "            # return np.inf\n",
    "        # return 10 * np.log10(1.0 / mse)  # MAX 신호 값(1.0) 기준\n",
    "\n",
    "    def step(self, action, lr=1e-4, z=2e-3):\n",
    "        \"\"\"\n",
    "        action: 1024x1024x8 배열로 출력된 MultiBinary 행동 데이터 (0 또는 1).\n",
    "        \"\"\"\n",
    "        # Action을 MultiBinary 형식으로 변환\n",
    "        action = np.reshape(action, (1, 8, 1024, 1024)).astype(np.int8)\n",
    "\n",
    "        # 타겟 계산 (예: 모델이 사용할 데이터셋)\n",
    "        target = train_dataset\n",
    "        # target = self.state.mean(axis=-1, keepdims=True)  # 타겟 이미지 (평균값)\n",
    "\n",
    "        # 시뮬레이션 계산\n",
    "        binary = action\n",
    "        sim = tt.simulate(binary, z).abs()**2\n",
    "        result = torch.mean(sim, dim=1, keepdim=True)\n",
    "\n",
    "        # MSE 계산 (이진 출력의 평균과 타겟 비교)\n",
    "        mse = tt.relativeLoss(result, target, F.mse_loss).detach().cpu().numpy()\n",
    "        # mse = np.mean((action.mean(axis=-1) - target.squeeze()) ** 2)\n",
    "\n",
    "        # PSNR 계산\n",
    "        psnr = tt.relativeLoss(result, target, tm.get_PSNR)\n",
    "        # psnr = self.calculate_psnr(mse)\n",
    "\n",
    "        # 보상 설계 (MSE 기반)\n",
    "        reward = -mse\n",
    "\n",
    "        # 상태 업데이트 (MultiBinary 상태 XOR로 변경)\n",
    "        self.state = np.logical_xor(self.state, action).astype(np.int8)\n",
    "\n",
    "        # 종료 조건 초기화\n",
    "        terminated = False\n",
    "        truncated = False\n",
    "        self.steps += 1\n",
    "\n",
    "        # 시간 초과 조건\n",
    "        if self.steps >= self.max_steps:\n",
    "            truncated = True\n",
    "\n",
    "        # 성능 기반 종료 조건 (PSNR 유지)\n",
    "        if psnr >= self.T_PSNR:\n",
    "            self.psnr_sustained_steps += 1\n",
    "        else:\n",
    "            self.psnr_sustained_steps = 0\n",
    "\n",
    "        # 목표 PSNR을 일정 시간 유지하면 종료\n",
    "        if self.psnr_sustained_steps >= self.T_steps:\n",
    "            terminated = True\n",
    "\n",
    "        # 관찰값은 상태와 독립적으로 유지됨\n",
    "        observation = self.observation  # 관찰값은 행동과 무관하게 유지\n",
    "\n",
    "        # 추가 정보 반환\n",
    "        info = {\n",
    "            \"mse\": mse,\n",
    "            \"psnr\": psnr,\n",
    "            \"psnr_sustained_steps\": self.psnr_sustained_steps,\n",
    "        }\n",
    "\n",
    "        return observation, reward, terminated, truncated, info\n"
   ]
  },
  {
   "cell_type": "code",
   "execution_count": null,
   "id": "2e8c9d82-7dbd-4b8d-9110-826a88c50f7c",
   "metadata": {},
   "outputs": [],
   "source": [
    "from stable_baselines3.common.env_checker import check_env\n",
    "\n",
    "def target_function(state, action):\n",
    "    \"\"\"\n",
    "    타겟 함수: 상태와 행동 간의 MSE를 계산합니다.\n",
    "    \"\"\"\n",
    "    target = state.mean(axis=-1, keepdims=True)\n",
    "    return np.mean((action.mean(axis=-1) - target.squeeze()) ** 2)\n",
    "\n",
    "# 환경 인스턴스 생성\n",
    "env = BinaryHologramEnv(\n",
    "    target_function=target_function,\n",
    "    max_steps=1000000,\n",
    "    T_PSNR=30,\n",
    "    T_steps=100,\n",
    ")\n",
    "\n",
    "# 환경 유효성 확인\n",
    "check_env(env, warn=True)\n"
   ]
  },
  {
   "cell_type": "code",
   "execution_count": null,
   "id": "e014a48d-3f78-4a18-bcf1-a50776e812b6",
   "metadata": {},
   "outputs": [],
   "source": [
    "from stable_baselines3.common.env_util import make_vec_env\n",
    "from stable_baselines3.common.vec_env import VecNormalize\n",
    "from sb3_contrib import RecurrentPPO\n",
    "\n",
    "model = BinaryNet(num_hologram=8, in_planes=1, convReLU=False,\n",
    "                  convBN=False, poolReLU=False, poolBN=False,\n",
    "                  deconvReLU=False, deconvBN=False).cuda()\n",
    "model.load_state_dict(torch.load('result/2024-12-07 19:38:09.105795_pre_reinforce_8_0.002/2024-12-07 19:38:09.105795_pre_reinforce_8_0.002'))\n",
    "model.eval()\n",
    "\n",
    "# Create the custom Gym environment\n",
    "env = BinaryHologramEnv(model=model, validloader=validloader, max_steps=1000, T_PSNR=30, T_steps=100)\n",
    "\n",
    "# Create a vectorized environment\n",
    "venv = make_vec_env(lambda: env, n_envs=1)\n",
    "venv = VecNormalize(venv, norm_obs=True, norm_reward=True, clip_obs=10.0)\n",
    "\n",
    "\n",
    "# Recurrent PPO 모델 학습\n",
    "ppo_model = RecurrentPPO(\n",
    "    \"MlpLstmPolicy\",\n",
    "    venv,\n",
    "    verbose=1,\n",
    "    n_steps=2048,\n",
    "    batch_size=64,\n",
    "    gamma=0.99,\n",
    "    learning_rate=3e-4,\n",
    "    tensorboard_log=\"./ppo_lstm/\"\n",
    ")\n",
    "\n",
    "# 모델 학습\n",
    "ppo_model.learn(total_timesteps=100000)\n",
    "\n",
    "# 학습된 모델 저장\n",
    "ppo_model.save(\"recurrent_ppo_binary_hologram\")\n"
   ]
  }
 ],
 "metadata": {
  "kernelspec": {
   "display_name": "Python 3 (ipykernel)",
   "language": "python",
   "name": "python3"
  },
  "language_info": {
   "codemirror_mode": {
    "name": "ipython",
    "version": 3
   },
   "file_extension": ".py",
   "mimetype": "text/x-python",
   "name": "python",
   "nbconvert_exporter": "python",
   "pygments_lexer": "ipython3",
   "version": "3.8.10"
  }
 },
 "nbformat": 4,
 "nbformat_minor": 5
}
